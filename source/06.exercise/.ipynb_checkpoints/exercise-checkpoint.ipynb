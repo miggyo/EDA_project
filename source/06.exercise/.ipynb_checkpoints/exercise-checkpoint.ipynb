{
 "cells": [
  {
   "cell_type": "code",
   "execution_count": 1,
   "id": "ca0b0cab-6dec-4653-a45d-38e4d0b1e42a",
   "metadata": {},
   "outputs": [
    {
     "name": "stderr",
     "output_type": "stream",
     "text": [
      "/tmp/ipykernel_3534/1435075001.py:1: DeprecationWarning: \n",
      "Pyarrow will become a required dependency of pandas in the next major release of pandas (pandas 3.0),\n",
      "(to allow more performant data types, such as the Arrow string type, and better interoperability with other libraries)\n",
      "but was not found to be installed on your system.\n",
      "If this would cause problems for you,\n",
      "please provide us feedback at https://github.com/pandas-dev/pandas/issues/54466\n",
      "        \n",
      "  import pandas as pd\n"
     ]
    }
   ],
   "source": [
    "import pandas as pd\n",
    "import matplotlib.pyplot as plt\n",
    "from matplotlib import rc"
   ]
  },
  {
   "cell_type": "code",
   "execution_count": 2,
   "id": "8df77282-7968-4095-ade4-bfa31c19aa38",
   "metadata": {},
   "outputs": [],
   "source": [
    "plt.rcParams['font.family']='NanumGothic'\n",
    "plt.rcParams['axes.unicode_minus'] = False\n"
   ]
  },
  {
   "cell_type": "code",
   "execution_count": 3,
   "id": "036f6a14-1d3a-4110-9568-44d12ff447c0",
   "metadata": {},
   "outputs": [
    {
     "data": {
      "text/html": [
       "<div>\n",
       "<style scoped>\n",
       "    .dataframe tbody tr th:only-of-type {\n",
       "        vertical-align: middle;\n",
       "    }\n",
       "\n",
       "    .dataframe tbody tr th {\n",
       "        vertical-align: top;\n",
       "    }\n",
       "\n",
       "    .dataframe thead th {\n",
       "        text-align: right;\n",
       "    }\n",
       "</style>\n",
       "<table border=\"1\" class=\"dataframe\">\n",
       "  <thead>\n",
       "    <tr style=\"text-align: right;\">\n",
       "      <th></th>\n",
       "      <th>기간</th>\n",
       "      <th>대분류</th>\n",
       "      <th>분류</th>\n",
       "      <th>운동을 할 충분한 시간이 없어서</th>\n",
       "      <th>함께 운동을 할 사람이 없어서</th>\n",
       "      <th>운동을 할 만한 장소가 없어서</th>\n",
       "      <th>운동을 싫어해서</th>\n",
       "      <th>기타</th>\n",
       "    </tr>\n",
       "  </thead>\n",
       "  <tbody>\n",
       "    <tr>\n",
       "      <th>0</th>\n",
       "      <td>2017</td>\n",
       "      <td>서울시</td>\n",
       "      <td>서울시</td>\n",
       "      <td>49.7</td>\n",
       "      <td>8.1</td>\n",
       "      <td>5.8</td>\n",
       "      <td>34.7</td>\n",
       "      <td>1.7</td>\n",
       "    </tr>\n",
       "    <tr>\n",
       "      <th>1</th>\n",
       "      <td>2017</td>\n",
       "      <td>성별</td>\n",
       "      <td>남자</td>\n",
       "      <td>55.2</td>\n",
       "      <td>7.9</td>\n",
       "      <td>5.5</td>\n",
       "      <td>29.8</td>\n",
       "      <td>1.6</td>\n",
       "    </tr>\n",
       "    <tr>\n",
       "      <th>2</th>\n",
       "      <td>2017</td>\n",
       "      <td>성별</td>\n",
       "      <td>여자</td>\n",
       "      <td>45.0</td>\n",
       "      <td>8.3</td>\n",
       "      <td>6.0</td>\n",
       "      <td>38.8</td>\n",
       "      <td>1.8</td>\n",
       "    </tr>\n",
       "    <tr>\n",
       "      <th>3</th>\n",
       "      <td>2017</td>\n",
       "      <td>연령별</td>\n",
       "      <td>10대</td>\n",
       "      <td>55.7</td>\n",
       "      <td>6.1</td>\n",
       "      <td>5.6</td>\n",
       "      <td>32.2</td>\n",
       "      <td>0.3</td>\n",
       "    </tr>\n",
       "    <tr>\n",
       "      <th>4</th>\n",
       "      <td>2017</td>\n",
       "      <td>연령별</td>\n",
       "      <td>20대</td>\n",
       "      <td>54.8</td>\n",
       "      <td>6.9</td>\n",
       "      <td>5.2</td>\n",
       "      <td>32.9</td>\n",
       "      <td>0.1</td>\n",
       "    </tr>\n",
       "  </tbody>\n",
       "</table>\n",
       "</div>"
      ],
      "text/plain": [
       "     기간  대분류   분류  운동을 할 충분한 시간이 없어서 함께 운동을 할 사람이 없어서  운동을 할 만한 장소가 없어서  \\\n",
       "0  2017  서울시  서울시               49.7              8.1               5.8   \n",
       "1  2017   성별   남자               55.2              7.9               5.5   \n",
       "2  2017   성별   여자               45.0              8.3               6.0   \n",
       "3  2017  연령별  10대               55.7              6.1               5.6   \n",
       "4  2017  연령별  20대               54.8              6.9               5.2   \n",
       "\n",
       "   운동을 싫어해서   기타  \n",
       "0      34.7  1.7  \n",
       "1      29.8  1.6  \n",
       "2      38.8  1.8  \n",
       "3      32.2  0.3  \n",
       "4      32.9  0.1  "
      ]
     },
     "execution_count": 3,
     "metadata": {},
     "output_type": "execute_result"
    }
   ],
   "source": [
    "raw_data=pd.read_excel('../../data/06.exercise/report.xls')\n",
    "raw_data.head()\n",
    "\n",
    "\n",
    "                     "
   ]
  },
  {
   "cell_type": "code",
   "execution_count": 4,
   "id": "0a97042c-772d-49c4-9043-4cee58987843",
   "metadata": {},
   "outputs": [
    {
     "name": "stdout",
     "output_type": "stream",
     "text": [
      "<class 'pandas.core.frame.DataFrame'>\n",
      "RangeIndex: 53 entries, 0 to 52\n",
      "Data columns (total 8 columns):\n",
      " #   Column             Non-Null Count  Dtype  \n",
      "---  ------             --------------  -----  \n",
      " 0   기간                 53 non-null     int64  \n",
      " 1   대분류                53 non-null     object \n",
      " 2   분류                 53 non-null     object \n",
      " 3   운동을 할 충분한 시간이 없어서  53 non-null     float64\n",
      " 4   함께 운동을 할 사람이 없어서   53 non-null     object \n",
      " 5   운동을 할 만한 장소가 없어서   53 non-null     float64\n",
      " 6   운동을 싫어해서           53 non-null     float64\n",
      " 7   기타                 53 non-null     object \n",
      "dtypes: float64(3), int64(1), object(4)\n",
      "memory usage: 3.4+ KB\n"
     ]
    }
   ],
   "source": [
    "raw_data.info()"
   ]
  },
  {
   "cell_type": "code",
   "execution_count": 5,
   "id": "04dfc60c-af01-472b-bdcd-07fe5b9ebb07",
   "metadata": {},
   "outputs": [
    {
     "data": {
      "text/html": [
       "<div>\n",
       "<style scoped>\n",
       "    .dataframe tbody tr th:only-of-type {\n",
       "        vertical-align: middle;\n",
       "    }\n",
       "\n",
       "    .dataframe tbody tr th {\n",
       "        vertical-align: top;\n",
       "    }\n",
       "\n",
       "    .dataframe thead th {\n",
       "        text-align: right;\n",
       "    }\n",
       "</style>\n",
       "<table border=\"1\" class=\"dataframe\">\n",
       "  <thead>\n",
       "    <tr style=\"text-align: right;\">\n",
       "      <th></th>\n",
       "      <th>기간</th>\n",
       "      <th>대분류</th>\n",
       "      <th>분류</th>\n",
       "      <th>운동을 할 충분한 시간이 없어서</th>\n",
       "      <th>함께 운동을 할 사람이 없어서</th>\n",
       "      <th>운동을 할 만한 장소가 없어서</th>\n",
       "      <th>운동을 싫어해서</th>\n",
       "      <th>기타</th>\n",
       "    </tr>\n",
       "  </thead>\n",
       "  <tbody>\n",
       "    <tr>\n",
       "      <th>1</th>\n",
       "      <td>2017</td>\n",
       "      <td>성별</td>\n",
       "      <td>남자</td>\n",
       "      <td>55.2</td>\n",
       "      <td>7.9</td>\n",
       "      <td>5.5</td>\n",
       "      <td>29.8</td>\n",
       "      <td>1.6</td>\n",
       "    </tr>\n",
       "    <tr>\n",
       "      <th>2</th>\n",
       "      <td>2017</td>\n",
       "      <td>성별</td>\n",
       "      <td>여자</td>\n",
       "      <td>45.0</td>\n",
       "      <td>8.3</td>\n",
       "      <td>6.0</td>\n",
       "      <td>38.8</td>\n",
       "      <td>1.8</td>\n",
       "    </tr>\n",
       "  </tbody>\n",
       "</table>\n",
       "</div>"
      ],
      "text/plain": [
       "     기간 대분류  분류  운동을 할 충분한 시간이 없어서 함께 운동을 할 사람이 없어서  운동을 할 만한 장소가 없어서  \\\n",
       "1  2017  성별  남자               55.2              7.9               5.5   \n",
       "2  2017  성별  여자               45.0              8.3               6.0   \n",
       "\n",
       "   운동을 싫어해서   기타  \n",
       "1      29.8  1.6  \n",
       "2      38.8  1.8  "
      ]
     },
     "execution_count": 5,
     "metadata": {},
     "output_type": "execute_result"
    }
   ],
   "source": [
    "raw_data[raw_data['대분류']=='성별']"
   ]
  },
  {
   "cell_type": "code",
   "execution_count": 6,
   "id": "6dfa0d01-2edc-4566-a293-1674b0cd44fc",
   "metadata": {},
   "outputs": [],
   "source": [
    "raw_data.drop(['기간'],axis='columns',inplace=True)"
   ]
  },
  {
   "cell_type": "code",
   "execution_count": 7,
   "id": "176d654a-895f-4600-b0eb-e7e4f47238ea",
   "metadata": {},
   "outputs": [
    {
     "data": {
      "text/html": [
       "<div>\n",
       "<style scoped>\n",
       "    .dataframe tbody tr th:only-of-type {\n",
       "        vertical-align: middle;\n",
       "    }\n",
       "\n",
       "    .dataframe tbody tr th {\n",
       "        vertical-align: top;\n",
       "    }\n",
       "\n",
       "    .dataframe thead th {\n",
       "        text-align: right;\n",
       "    }\n",
       "</style>\n",
       "<table border=\"1\" class=\"dataframe\">\n",
       "  <thead>\n",
       "    <tr style=\"text-align: right;\">\n",
       "      <th></th>\n",
       "      <th>대분류</th>\n",
       "      <th>분류</th>\n",
       "      <th>운동을 할 충분한 시간이 없어서</th>\n",
       "      <th>함께 운동을 할 사람이 없어서</th>\n",
       "      <th>운동을 할 만한 장소가 없어서</th>\n",
       "      <th>운동을 싫어해서</th>\n",
       "      <th>기타</th>\n",
       "    </tr>\n",
       "  </thead>\n",
       "  <tbody>\n",
       "    <tr>\n",
       "      <th>0</th>\n",
       "      <td>서울시</td>\n",
       "      <td>서울시</td>\n",
       "      <td>49.7</td>\n",
       "      <td>8.1</td>\n",
       "      <td>5.8</td>\n",
       "      <td>34.7</td>\n",
       "      <td>1.7</td>\n",
       "    </tr>\n",
       "    <tr>\n",
       "      <th>1</th>\n",
       "      <td>성별</td>\n",
       "      <td>남자</td>\n",
       "      <td>55.2</td>\n",
       "      <td>7.9</td>\n",
       "      <td>5.5</td>\n",
       "      <td>29.8</td>\n",
       "      <td>1.6</td>\n",
       "    </tr>\n",
       "    <tr>\n",
       "      <th>2</th>\n",
       "      <td>성별</td>\n",
       "      <td>여자</td>\n",
       "      <td>45.0</td>\n",
       "      <td>8.3</td>\n",
       "      <td>6.0</td>\n",
       "      <td>38.8</td>\n",
       "      <td>1.8</td>\n",
       "    </tr>\n",
       "    <tr>\n",
       "      <th>3</th>\n",
       "      <td>연령별</td>\n",
       "      <td>10대</td>\n",
       "      <td>55.7</td>\n",
       "      <td>6.1</td>\n",
       "      <td>5.6</td>\n",
       "      <td>32.2</td>\n",
       "      <td>0.3</td>\n",
       "    </tr>\n",
       "    <tr>\n",
       "      <th>4</th>\n",
       "      <td>연령별</td>\n",
       "      <td>20대</td>\n",
       "      <td>54.8</td>\n",
       "      <td>6.9</td>\n",
       "      <td>5.2</td>\n",
       "      <td>32.9</td>\n",
       "      <td>0.1</td>\n",
       "    </tr>\n",
       "  </tbody>\n",
       "</table>\n",
       "</div>"
      ],
      "text/plain": [
       "   대분류   분류  운동을 할 충분한 시간이 없어서 함께 운동을 할 사람이 없어서  운동을 할 만한 장소가 없어서  운동을 싫어해서  \\\n",
       "0  서울시  서울시               49.7              8.1               5.8      34.7   \n",
       "1   성별   남자               55.2              7.9               5.5      29.8   \n",
       "2   성별   여자               45.0              8.3               6.0      38.8   \n",
       "3  연령별  10대               55.7              6.1               5.6      32.2   \n",
       "4  연령별  20대               54.8              6.9               5.2      32.9   \n",
       "\n",
       "    기타  \n",
       "0  1.7  \n",
       "1  1.6  \n",
       "2  1.8  \n",
       "3  0.3  \n",
       "4  0.1  "
      ]
     },
     "execution_count": 7,
     "metadata": {},
     "output_type": "execute_result"
    }
   ],
   "source": [
    "raw_data.head()"
   ]
  },
  {
   "cell_type": "code",
   "execution_count": 8,
   "id": "ca1106b2-5a56-42b7-aee1-b13a9ce6494e",
   "metadata": {},
   "outputs": [
    {
     "data": {
      "text/html": [
       "<div>\n",
       "<style scoped>\n",
       "    .dataframe tbody tr th:only-of-type {\n",
       "        vertical-align: middle;\n",
       "    }\n",
       "\n",
       "    .dataframe tbody tr th {\n",
       "        vertical-align: top;\n",
       "    }\n",
       "\n",
       "    .dataframe thead th {\n",
       "        text-align: right;\n",
       "    }\n",
       "</style>\n",
       "<table border=\"1\" class=\"dataframe\">\n",
       "  <thead>\n",
       "    <tr style=\"text-align: right;\">\n",
       "      <th></th>\n",
       "      <th>대분류</th>\n",
       "      <th>분류</th>\n",
       "      <th>운동을 할 충분한 시간이 없어서</th>\n",
       "      <th>함께 운동을 할 사람이 없어서</th>\n",
       "      <th>운동을 할 만한 장소가 없어서</th>\n",
       "      <th>운동을 싫어해서</th>\n",
       "      <th>기타</th>\n",
       "    </tr>\n",
       "  </thead>\n",
       "  <tbody>\n",
       "    <tr>\n",
       "      <th>1</th>\n",
       "      <td>성별</td>\n",
       "      <td>남자</td>\n",
       "      <td>55.2</td>\n",
       "      <td>7.9</td>\n",
       "      <td>5.5</td>\n",
       "      <td>29.8</td>\n",
       "      <td>1.6</td>\n",
       "    </tr>\n",
       "    <tr>\n",
       "      <th>2</th>\n",
       "      <td>성별</td>\n",
       "      <td>여자</td>\n",
       "      <td>45.0</td>\n",
       "      <td>8.3</td>\n",
       "      <td>6.0</td>\n",
       "      <td>38.8</td>\n",
       "      <td>1.8</td>\n",
       "    </tr>\n",
       "  </tbody>\n",
       "</table>\n",
       "</div>"
      ],
      "text/plain": [
       "  대분류  분류  운동을 할 충분한 시간이 없어서 함께 운동을 할 사람이 없어서  운동을 할 만한 장소가 없어서  운동을 싫어해서   기타\n",
       "1  성별  남자               55.2              7.9               5.5      29.8  1.6\n",
       "2  성별  여자               45.0              8.3               6.0      38.8  1.8"
      ]
     },
     "execution_count": 8,
     "metadata": {},
     "output_type": "execute_result"
    }
   ],
   "source": [
    "raw_data=raw_data[raw_data['대분류']=='성별']\n",
    "raw_data"
   ]
  },
  {
   "cell_type": "code",
   "execution_count": 9,
   "id": "32360f9d-c848-42c8-89b0-1d70cbc63f23",
   "metadata": {},
   "outputs": [
    {
     "data": {
      "text/html": [
       "<div>\n",
       "<style scoped>\n",
       "    .dataframe tbody tr th:only-of-type {\n",
       "        vertical-align: middle;\n",
       "    }\n",
       "\n",
       "    .dataframe tbody tr th {\n",
       "        vertical-align: top;\n",
       "    }\n",
       "\n",
       "    .dataframe thead th {\n",
       "        text-align: right;\n",
       "    }\n",
       "</style>\n",
       "<table border=\"1\" class=\"dataframe\">\n",
       "  <thead>\n",
       "    <tr style=\"text-align: right;\">\n",
       "      <th></th>\n",
       "      <th>대분류</th>\n",
       "      <th>운동을 할 충분한 시간이 없어서</th>\n",
       "      <th>함께 운동을 할 사람이 없어서</th>\n",
       "      <th>운동을 할 만한 장소가 없어서</th>\n",
       "      <th>운동을 싫어해서</th>\n",
       "      <th>기타</th>\n",
       "    </tr>\n",
       "    <tr>\n",
       "      <th>분류</th>\n",
       "      <th></th>\n",
       "      <th></th>\n",
       "      <th></th>\n",
       "      <th></th>\n",
       "      <th></th>\n",
       "      <th></th>\n",
       "    </tr>\n",
       "  </thead>\n",
       "  <tbody>\n",
       "    <tr>\n",
       "      <th>남자</th>\n",
       "      <td>성별</td>\n",
       "      <td>55.2</td>\n",
       "      <td>7.9</td>\n",
       "      <td>5.5</td>\n",
       "      <td>29.8</td>\n",
       "      <td>1.6</td>\n",
       "    </tr>\n",
       "    <tr>\n",
       "      <th>여자</th>\n",
       "      <td>성별</td>\n",
       "      <td>45.0</td>\n",
       "      <td>8.3</td>\n",
       "      <td>6.0</td>\n",
       "      <td>38.8</td>\n",
       "      <td>1.8</td>\n",
       "    </tr>\n",
       "  </tbody>\n",
       "</table>\n",
       "</div>"
      ],
      "text/plain": [
       "   대분류  운동을 할 충분한 시간이 없어서 함께 운동을 할 사람이 없어서  운동을 할 만한 장소가 없어서  운동을 싫어해서   기타\n",
       "분류                                                                         \n",
       "남자  성별               55.2              7.9               5.5      29.8  1.6\n",
       "여자  성별               45.0              8.3               6.0      38.8  1.8"
      ]
     },
     "execution_count": 9,
     "metadata": {},
     "output_type": "execute_result"
    }
   ],
   "source": [
    "raw_data.set_index('분류',inplace=True)\n",
    "raw_data.head()"
   ]
  },
  {
   "cell_type": "code",
   "execution_count": 10,
   "id": "c0cf6b11-c0b9-4c3f-ac60-a52ca5452e61",
   "metadata": {},
   "outputs": [
    {
     "data": {
      "image/png": "[encoded data removed]",
      "text/plain": [
       "<Figure size 500x400 with 1 Axes>"
      ]
     },
     "metadata": {},
     "output_type": "display_data"
    }
   ],
   "source": [
    "plt.figure(figsize=(5,4))\n",
    "raw_data['운동을 할 충분한 시간이 없어서'].plot.pie(explode=[0,0.02])\n",
    "plt.show()"
   ]
  },
  {
   "cell_type": "code",
   "execution_count": 11,
   "id": "78d57c84-8bc0-4147-b842-7a2c89297bf1",
   "metadata": {},
   "outputs": [
    {
     "name": "stdout",
     "output_type": "stream",
     "text": [
      "<class 'pandas.core.frame.DataFrame'>\n",
      "Index: 2 entries, 남자 to 여자\n",
      "Data columns (total 6 columns):\n",
      " #   Column             Non-Null Count  Dtype  \n",
      "---  ------             --------------  -----  \n",
      " 0   대분류                2 non-null      object \n",
      " 1   운동을 할 충분한 시간이 없어서  2 non-null      float64\n",
      " 2   함께 운동을 할 사람이 없어서   2 non-null      float64\n",
      " 3   운동을 할 만한 장소가 없어서   2 non-null      float64\n",
      " 4   운동을 싫어해서           2 non-null      float64\n",
      " 5   기타                 2 non-null      object \n",
      "dtypes: float64(4), object(2)\n",
      "memory usage: 220.0+ bytes\n"
     ]
    }
   ],
   "source": [
    "raw_data['함께 운동을 할 사람이 없어서']=raw_data['함께 운동을 할 사람이 없어서'].astype('float')\n",
    "raw_data.info()"
   ]
  },
  {
   "cell_type": "code",
   "execution_count": 12,
   "id": "2518f567-8586-43bf-8812-4a6002fd6608",
   "metadata": {},
   "outputs": [
    {
     "data": {
      "image/png": "[encoded data removed]",
      "text/plain": [
       "<Figure size 500x400 with 1 Axes>"
      ]
     },
     "metadata": {},
     "output_type": "display_data"
    }
   ],
   "source": [
    "plt.figure(figsize=(5,4))\n",
    "raw_data['함께 운동을 할 사람이 없어서'].plot.pie(explode=[0,0.02])\n",
    "plt.show()"
   ]
  },
  {
   "cell_type": "code",
   "execution_count": 36,
   "id": "a92ab4cd-9dbf-4a86-badb-0cba4a9c5f07",
   "metadata": {},
   "outputs": [
    {
     "data": {
      "image/png": "[encoded data removed]",
      "text/plain": [
       "<Figure size 1600x800 with 2 Axes>"
      ]
     },
     "metadata": {},
     "output_type": "display_data"
    }
   ],
   "source": [
    "f,ax=plt.subplots(1,2,figsize=(16,8))\n",
    "raw_data['운동을 할 충분한 시간이 없어서'].plot.pie(explode=[0,0.02],ax=ax[0],autopct='%1.1f%%')\n",
    "ax[0].set_title('운동을 할 충분한 시간이 없어서')\n",
    "ax[0].set_ylabel('')\n",
    "\n",
    "raw_data['함께 운동을 할 사람이 없어서'].plot.pie(explode=[0,0.02],ax=ax[1],autopct='%1.1f%%')\n",
    "ax[1].set_title('함께 운동을 할 사람이 없어서')\n",
    "ax[1].set_ylabel('')\n",
    "\n",
    "plt.show()"
   ]
  },
  {
   "cell_type": "code",
   "execution_count": 35,
   "id": "9b6fe00d-f720-4bb8-9bef-cd7c712091c9",
   "metadata": {},
   "outputs": [
    {
     "data": {
      "text/plain": [
       "2"
      ]
     },
     "execution_count": 35,
     "metadata": {},
     "output_type": "execute_result"
    }
   ],
   "source": [
    "len(ax)"
   ]
  },
  {
   "cell_type": "code",
   "execution_count": null,
   "id": "c279a3f0-d1f2-48f4-9a48-a222a89ba8fa",
   "metadata": {},
   "outputs": [],
   "source": []
  }
 ],
 "metadata": {
  "kernelspec": {
   "display_name": "Python 3 (ipykernel)",
   "language": "python",
   "name": "python3"
  },
  "language_info": {
   "codemirror_mode": {
    "name": "ipython",
    "version": 3
   },
   "file_extension": ".py",
   "mimetype": "text/x-python",
   "name": "python",
   "nbconvert_exporter": "python",
   "pygments_lexer": "ipython3",
   "version": "3.10.12"
  }
 },
 "nbformat": 4,
 "nbformat_minor": 5
}
