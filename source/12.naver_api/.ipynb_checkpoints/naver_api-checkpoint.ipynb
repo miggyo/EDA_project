{
 "cells": [
  {
   "cell_type": "code",
   "execution_count": 78,
   "id": "33e41bce-6552-48dd-950c-e72b98be2093",
   "metadata": {},
   "outputs": [],
   "source": [
    "#  client id : qX3fSzn7zfg2WSssOjk2\n",
    "# client secret : iakAWSn_XR"
   ]
  },
  {
   "cell_type": "code",
   "execution_count": 79,
   "id": "9101ed68-d292-40bc-a443-374d8a14c41e",
   "metadata": {},
   "outputs": [],
   "source": [
    "import urllib.request\n",
    "import json\n",
    "import datetime\n",
    "import pandas as pd"
   ]
  },
  {
   "cell_type": "code",
   "execution_count": 80,
   "id": "99d18616-25c9-4333-bd07-124acc633496",
   "metadata": {},
   "outputs": [],
   "source": [
    "client_id = 'qX3fSzn7zfg2WSssOjk2'\n",
    "client_secret = 'iakAWSn_XR'\n"
   ]
  },
  {
   "cell_type": "code",
   "execution_count": 81,
   "id": "3c674d63-59aa-4bd7-8f35-098791d53642",
   "metadata": {},
   "outputs": [
    {
     "name": "stdout",
     "output_type": "stream",
     "text": [
      "{\n",
      "\t\"lastBuildDate\":\"Fri, 23 Feb 2024 16:12:52 +0900\",\n",
      "\t\"total\":186141,\n",
      "\t\"start\":1,\n",
      "\t\"display\":10,\n",
      "\t\"items\":[\n",
      "\t\t{\n",
      "\t\t\t\"title\":\"<b>파이썬<\\/b>\",\n",
      "\t\t\t\"link\":\"http:\\/\\/cafe.naver.com\\/mathall\\/2748739\",\n",
      "\t\t\t\"description\":\"초보가 <b>파이썬<\\/b> 과정부터 배우는게 가능한가요? 아니면 블럭코딩 스크래치 같은것부터 차근차근 배우고 넘어가야하나요? 동네에 문의한 학원은 스크래치 주1회 1년과정 <b>파이썬<\\/b> 1년 과정이라고 하더라구요 제가 코딩에 대해... \",\n",
      "\t\t\t\"cafename\":\"[상위1%카페] 대한민국 상위1% 교육정...\",\n",
      "\t\t\t\"cafeurl\":\"https:\\/\\/cafe.naver.com\\/mathall\"\n",
      "\t\t},\n",
      "\t\t{\n",
      "\t\t\t\"title\":\"코딩 <b>파이썬<\\/b> 학원 원비\",\n",
      "\t\t\t\"link\":\"http:\\/\\/cafe.naver.com\\/byungs94\\/7474807\",\n",
      "\t\t\t\"description\":\"18만원(<b>파이썬<\\/b>과정) c언어 과정은 2시간 20만원 이던데.. 적정금액인가요? 아이가 코딩에 관심있어해서 알아봤는데.. 영,수 학원에 코딩까지 보낼려니 부담이네요. 혹시 코딩 <b>파이썬<\\/b> 하는 친구들 원비 어느정도... \",\n",
      "\t\t\t\"cafename\":\"♬~수원맘 모여라\",\n",
      "\t\t\t\"cafeurl\":\"https:\\/\\/cafe.naver.com\\/byungs94\"\n",
      "\t\t},\n",
      "\t\t{\n",
      "\t\t\t\"title\":\"<b>파이썬<\\/b> 자격증은 무의미한가요...?\",\n",
      "\t\t\t\"link\":\"http:\\/\\/cafe.naver.com\\/sqlpd\\/68304\",\n",
      "\t\t\t\"description\":\"<b>파이썬<\\/b> 민간자격증 있어보이는데, 무의미할까요...?\",\n",
      "\t\t\t\"cafename\":\"데이터 전문가 포럼 (빅데이터분석기사...\",\n",
      "\t\t\t\"cafeurl\":\"https:\\/\\/cafe.naver.com\\/sqlpd\"\n",
      "\t\t},\n",
      "\t\t{\n",
      "\t\t\t\"title\":\"예비중1학생 <b>파이썬<\\/b> 배우면 도움이 될까요?\",\n",
      "\t\t\t\"link\":\"http:\\/\\/cafe.naver.com\\/mapomommy\\/1275673\",\n",
      "\t\t\t\"description\":\"문제해결 능력등등 이런걸 좀 키워주고 싶어서요 중1때는 시험이 없다하니 주말을 이용해 <b>파이썬<\\/b>을 좀 시겨볼까 하는데 도움이 많이 될까요? 컴공을 전공할것도 아닌데 굳이 할 필요 없을까요,? 괜히 엄마 욕심에 시켜서... \",\n",
      "\t\t\t\"cafename\":\"마이키_마포에서 아이 키우기\",\n",
      "\t\t\t\"cafeurl\":\"https:\\/\\/cafe.naver.com\\/mapomommy\"\n",
      "\t\t},\n",
      "\t\t{\n",
      "\t\t\t\"title\":\"초5 <b>파이썬<\\/b>을 계속해야할지 고민입니다.\",\n",
      "\t\t\t\"link\":\"http:\\/\\/cafe.naver.com\\/mathall\\/2750274\",\n",
      "\t\t\t\"description\":\"이제 초등5학년 되는 남아입니다.몇달전 선생님께서 아이수학선행이 얼마나 되어있는지 여쭤보시고 권하시길래 <b>파이썬<\\/b>을 하고 있어요. 아이가 문제를 풀때 안풀리는지 이제 컴퓨터를 끊어 달라고 합니다.컴퓨터 선생님께... \",\n",
      "\t\t\t\"cafename\":\"[상위1%카페] 대한민국 상위1% 교육정...\",\n",
      "\t\t\t\"cafeurl\":\"https:\\/\\/cafe.naver.com\\/mathall\"\n",
      "\t\t},\n",
      "\t\t{\n",
      "\t\t\t\"title\":\"AB PLC와 <b>파이썬<\\/b> 연결 어렵나요?\",\n",
      "\t\t\t\"link\":\"http:\\/\\/cafe.naver.com\\/cplc\\/335119\",\n",
      "\t\t\t\"description\":\"AB PLC에서 입력 신호를 <b>파이썬<\\/b>으로 받아 연산 후 PLC로 출력하려고 하는데 어려울까요? OPC 서버를 사용하고 <b>파이썬<\\/b>에서는 pylogix 라이브러리를 설치해서 하는거 같은데... OPC 서버는 RSLinx로 할 수 있나요? 한... \",\n",
      "\t\t\t\"cafename\":\"컴퓨터일반과PLC\",\n",
      "\t\t\t\"cafeurl\":\"https:\\/\\/cafe.naver.com\\/cplc\"\n",
      "\t\t},\n",
      "\t\t{\n",
      "\t\t\t\"title\":\"파주 코딩과외 프로그래밍언어 <b>파이썬<\\/b> 자바스크립트 실시간 화상수업\",\n",
      "\t\t\t\"link\":\"http:\\/\\/cafe.naver.com\\/kickstudy\\/1028252\",\n",
      "\t\t\t\"description\":\"파주 코딩과외 프로그래밍언어 <b>파이썬<\\/b> 자바스크립트 실시간 화상수업 파주 코딩과외 <b>파이썬<\\/b> 자바스크립트 수업을 온라인과외로 실시간 진행하고 하고 있어요. 현재 코딩에 대한 관심이 높아지면서 코딩기술이 중요한... \",\n",
      "\t\t\t\"cafename\":\"수꿈사★수능영어,수학,수시정시,등급...\",\n",
      "\t\t\t\"cafeurl\":\"https:\\/\\/cafe.naver.com\\/kickstudy\"\n",
      "\t\t},\n",
      "\t\t{\n",
      "\t\t\t\"title\":\"학점은행제 컴퓨터공학, 코딩 <b>파이썬<\\/b> 공부랑! 기초 독학 인강\",\n",
      "\t\t\t\"link\":\"http:\\/\\/cafe.naver.com\\/outcampus\\/748027\",\n",
      "\t\t\t\"description\":\"학점은행제 컴퓨터공학, 코딩 <b>파이썬<\\/b> 공부랑! 기초 독학 인강 컴퓨터공학 학위 취득 고졸자도 가능하다... 학점은행제 컴퓨터공학이라는 온라인 학위를 통해 학위를 만들 수도 있고, 추가적으로 코딩 기초 및 <b>파이썬<\\/b>... \",\n",
      "\t\t\t\"cafename\":\"[아웃캠퍼스] 대학생 공모전 대외활동...\",\n",
      "\t\t\t\"cafeurl\":\"https:\\/\\/cafe.naver.com\\/outcampus\"\n",
      "\t\t},\n",
      "\t\t{\n",
      "\t\t\t\"title\":\"정보 교과 <b>파이썬<\\/b> 선행 여부\",\n",
      "\t\t\t\"link\":\"http:\\/\\/cafe.naver.com\\/kongdae\\/181790\",\n",
      "\t\t\t\"description\":\"<b>파이썬<\\/b> 프로그래밍인데, 아이는 수과학 공부하느라 컴맹입니다. 방학중에 <b>파이썬<\\/b> 특강이나 과외를 좀 하는게 좋을까요? 아니면 그 시간에 부족한 수과학을 더 달려야 할까요?\",\n",
      "\t\t\t\"cafename\":\"[이공계의 별★서울대,KAIST,POSTECH,...\",\n",
      "\t\t\t\"cafeurl\":\"https:\\/\\/cafe.naver.com\\/kongdae\"\n",
      "\t\t},\n",
      "\t\t{\n",
      "\t\t\t\"title\":\"목포 성인 코딩과외 플밍 중학생 자바 HTML 고등 수업 프로그래밍 왕초보 <b>파이썬<\\/b> 코딩학원 초등학생 텍스트\",\n",
      "\t\t\t\"link\":\"http:\\/\\/cafe.naver.com\\/fanficview\\/809981\",\n",
      "\t\t\t\"description\":\"목포 성인 코딩과외 플밍 중학생 자바 HTML 고등 수업 프로그래밍 왕초보 <b>파이썬<\\/b> 코딩학원 초등학생 텍스트... 구할 주요 행정 구원받을 목포<b>파이썬<\\/b>코딩과외 아직 기능을 과제의 대학에 목포플밍학원 따라서 형평성과 특정... \",\n",
      "\t\t\t\"cafename\":\"●볼보코리아●s60,xc60,70,xc90,s80,...\",\n",
      "\t\t\t\"cafeurl\":\"https:\\/\\/cafe.naver.com\\/fanficview\"\n",
      "\t\t}\n",
      "\t]\n",
      "}\n"
     ]
    }
   ],
   "source": [
    "url = \"https://openapi.naver.com/v1/search/cafearticle?query=\" + encText\n",
    "request = urllib.request.Request(url)\n",
    "request.add_header(\"X-Naver-Client-Id\",client_id)\n",
    "request.add_header(\"X-Naver-Client-Secret\",client_secret)\n",
    "\n",
    "response = urllib.request.urlopen(request)\n",
    "print(response.read().decode('utf-8'))"
   ]
  },
  {
   "cell_type": "code",
   "execution_count": null,
   "id": "999d4082-4449-48b9-943e-7d980a7d15e1",
   "metadata": {},
   "outputs": [],
   "source": [
    "#url 생성 과정"
   ]
  },
  {
   "cell_type": "code",
   "execution_count": 82,
   "id": "23688b24-8228-46b8-acfd-4322d350f5fb",
   "metadata": {},
   "outputs": [],
   "source": [
    "def gen_search_url(api_node, search_text, start_num, disp_num) : \n",
    "    base = \"https://openapi.naver.com/v1/search\"\n",
    "    node = \"/\" + api_node + \".json\"\n",
    "    param_query = \"?query=\" + urllib.parse.quote(search_text)\n",
    "    param_start = \"&start=\" + str(start_num)\n",
    "    param_disp = \"&display=\" + str(disp_num)\n",
    "\n",
    "    return base + node + param_query + param_start + param_disp\n"
   ]
  },
  {
   "cell_type": "code",
   "execution_count": 83,
   "id": "0d6da91f-a072-461c-b89f-6849d5592211",
   "metadata": {},
   "outputs": [
    {
     "data": {
      "text/plain": [
       "'https://openapi.naver.com/v1/search/shop.json?query=TEST&start=10&display=3'"
      ]
     },
     "execution_count": 83,
     "metadata": {},
     "output_type": "execute_result"
    }
   ],
   "source": [
    "gen_search_url('shop','TEST',10,3)"
   ]
  },
  {
   "cell_type": "code",
   "execution_count": null,
   "id": "61c131ed-e288-4dc3-97c7-b84844b9e1e8",
   "metadata": {},
   "outputs": [],
   "source": [
    "#해당 url로 검색결과"
   ]
  },
  {
   "cell_type": "code",
   "execution_count": 104,
   "id": "1bfe23bf-ac77-4393-82db-ebc584f7acea",
   "metadata": {},
   "outputs": [],
   "source": [
    "def get_result_onpage(url):\n",
    "    request = urllib.request.Request(url)\n",
    "    request.add_header(\"X-Naver-Client-Id\",client_id)\n",
    "    request.add_header(\"X-Naver-Client-Secret\",client_secret)\n",
    "\n",
    "    response = urllib.request.urlopen(request)\n",
    "    print(\"[%s] Url Request Seccess\" % datetime.datetime.now())\n",
    "\n",
    "    return json.loads(response.read().decode('utf-8'))"
   ]
  },
  {
   "cell_type": "code",
   "execution_count": null,
   "id": "5c2d4e54-6f21-4830-bcaf-a419cd06605b",
   "metadata": {},
   "outputs": [],
   "source": [
    "      # //검색할 인덱스(몇 번째부터 검색할꺼냐?)\n",
    "      #   int    start   = 1;\n",
    "      #   //검색할 데이터 개수(몇 개 검색할꺼냐?)\n",
    "      #   # int    display = 10;"
   ]
  },
  {
   "cell_type": "code",
   "execution_count": 85,
   "id": "43852a2e-9f42-4fa7-8dc4-1ec82bbf591e",
   "metadata": {},
   "outputs": [
    {
     "name": "stdout",
     "output_type": "stream",
     "text": [
      "[2024-02-23 16:12:52.669332] Url Request Seccess\n"
     ]
    }
   ],
   "source": [
    "url = gen_search_url('shop','몰스킨',1,5)\n",
    "one_result = get_result_onpage(url)"
   ]
  },
  {
   "cell_type": "code",
   "execution_count": 86,
   "id": "a41c6659-f3f7-4e7f-82e6-5f97a4d79eae",
   "metadata": {},
   "outputs": [
    {
     "data": {
      "text/plain": [
       "{'lastBuildDate': 'Fri, 23 Feb 2024 16:12:52 +0900',\n",
       " 'total': 47008,\n",
       " 'start': 1,\n",
       " 'display': 5,\n",
       " 'items': [{'title': '[<b>몰스킨</b>] 2024년 클래식 다이어리 (12개월) (데일리, 위클리, 먼슬리)',\n",
       "   'link': 'https://search.shopping.naver.com/gate.nhn?id=42344941884',\n",
       "   'image': 'https://shopping-phinf.pstatic.net/main_4234494/42344941884.jpg',\n",
       "   'lprice': '16200',\n",
       "   'hprice': '',\n",
       "   'mallName': '몰스킨공식온라인스토어',\n",
       "   'productId': '42344941884',\n",
       "   'productType': '2',\n",
       "   'brand': '몰스킨',\n",
       "   'maker': '',\n",
       "   'category1': '생활/건강',\n",
       "   'category2': '문구/사무용품',\n",
       "   'category3': '다이어리/플래너',\n",
       "   'category4': '다이어리'},\n",
       "  {'title': '올젠 <b>몰스킨</b> 자켓 ZOD4KG1311',\n",
       "   'link': 'https://search.shopping.naver.com/gate.nhn?id=42816582647',\n",
       "   'image': 'https://shopping-phinf.pstatic.net/main_4281658/42816582647.20240215125021.jpg',\n",
       "   'lprice': '72110',\n",
       "   'hprice': '',\n",
       "   'mallName': '네이버',\n",
       "   'productId': '42816582647',\n",
       "   'productType': '1',\n",
       "   'brand': '올젠',\n",
       "   'maker': '',\n",
       "   'category1': '패션의류',\n",
       "   'category2': '남성의류',\n",
       "   'category3': '재킷',\n",
       "   'category4': ''},\n",
       "  {'title': '<b>몰스킨</b> 2024 다이어리 클래식 소프트커버 데일리 라지 2024년 24년',\n",
       "   'link': 'https://search.shopping.naver.com/gate.nhn?id=86678199160',\n",
       "   'image': 'https://shopping-phinf.pstatic.net/main_8667819/86678199160.4.jpg',\n",
       "   'lprice': '23400',\n",
       "   'hprice': '',\n",
       "   'mallName': '베스트펜',\n",
       "   'productId': '86678199160',\n",
       "   'productType': '2',\n",
       "   'brand': '몰스킨',\n",
       "   'maker': '몰스킨',\n",
       "   'category1': '생활/건강',\n",
       "   'category2': '문구/사무용품',\n",
       "   'category3': '다이어리/플래너',\n",
       "   'category4': '다이어리'},\n",
       "  {'title': '르몽생미셸 지니언 워크자켓 블루 <b>몰스킨</b> 프렌치 워크자켓',\n",
       "   'link': 'https://search.shopping.naver.com/gate.nhn?id=83453383930',\n",
       "   'image': 'https://shopping-phinf.pstatic.net/main_8345338/83453383930.2.jpg',\n",
       "   'lprice': '378000',\n",
       "   'hprice': '',\n",
       "   'mallName': '스프링스트릿 마켓',\n",
       "   'productId': '83453383930',\n",
       "   'productType': '2',\n",
       "   'brand': '',\n",
       "   'maker': '',\n",
       "   'category1': '패션의류',\n",
       "   'category2': '남성의류',\n",
       "   'category3': '재킷',\n",
       "   'category4': ''},\n",
       "  {'title': '르몽생미셸 프렌치 <b>몰스킨</b> 워크자켓 지니언 블루',\n",
       "   'link': 'https://search.shopping.naver.com/gate.nhn?id=43414222531',\n",
       "   'image': 'https://shopping-phinf.pstatic.net/main_4341422/43414222531.jpg',\n",
       "   'lprice': '154000',\n",
       "   'hprice': '',\n",
       "   'mallName': '11번가',\n",
       "   'productId': '43414222531',\n",
       "   'productType': '2',\n",
       "   'brand': '',\n",
       "   'maker': '',\n",
       "   'category1': '패션의류',\n",
       "   'category2': '남성의류',\n",
       "   'category3': '재킷',\n",
       "   'category4': ''}]}"
      ]
     },
     "execution_count": 86,
     "metadata": {},
     "output_type": "execute_result"
    }
   ],
   "source": [
    "one_result"
   ]
  },
  {
   "cell_type": "code",
   "execution_count": 87,
   "id": "63f100fd-0e26-481b-a729-9ff9eea382be",
   "metadata": {},
   "outputs": [
    {
     "data": {
      "text/plain": [
       "'[<b>몰스킨</b>] 2024년 클래식 다이어리 (12개월) (데일리, 위클리, 먼슬리)'"
      ]
     },
     "execution_count": 87,
     "metadata": {},
     "output_type": "execute_result"
    }
   ],
   "source": [
    "one_result['items'][0]['title']"
   ]
  },
  {
   "cell_type": "code",
   "execution_count": 88,
   "id": "b1712405-a456-476e-a9c9-04e3b11b6048",
   "metadata": {},
   "outputs": [
    {
     "data": {
      "text/plain": [
       "'16200'"
      ]
     },
     "execution_count": 88,
     "metadata": {},
     "output_type": "execute_result"
    }
   ],
   "source": [
    "one_result['items'][0]['lprice']"
   ]
  },
  {
   "cell_type": "code",
   "execution_count": 89,
   "id": "a584478c-41f6-4320-8ac2-14692e60f3b5",
   "metadata": {},
   "outputs": [
    {
     "data": {
      "text/plain": [
       "'몰스킨공식온라인스토어'"
      ]
     },
     "execution_count": 89,
     "metadata": {},
     "output_type": "execute_result"
    }
   ],
   "source": [
    "one_result['items'][0]['mallName']"
   ]
  },
  {
   "cell_type": "code",
   "execution_count": null,
   "id": "fc5b621d-3b96-4a37-89dc-447913677177",
   "metadata": {},
   "outputs": [],
   "source": [
    "#dataFrame 형식으로 변경"
   ]
  },
  {
   "cell_type": "code",
   "execution_count": 90,
   "id": "7b3ec2bb-549b-45a9-8e80-3d3ef1df1562",
   "metadata": {},
   "outputs": [],
   "source": [
    "def get_fields(json_data):\n",
    "    title = [each['title'] for each in json_data['items']]\n",
    "    link = [each['link'] for each in json_data['items']]\n",
    "    lprice = [each['lprice'] for each in json_data['items']]\n",
    "    hprice = [each['hprice'] for each in json_data['items']]\n",
    "    mall_name = [each['mallName'] for each in json_data['items']]\n",
    "    result_pd = pd.DataFrame({'title':title, 'lprice':lprice, 'hprice':hprice,\n",
    "                              'link':link,'mall':mall_name},\n",
    "                             columns=['title','lprice','hprice','link','mall'])\n",
    "\n",
    "    return result_pd\n",
    "        "
   ]
  },
  {
   "cell_type": "code",
   "execution_count": 91,
   "id": "b561ba69-7cfa-4101-a770-6f946f1314ee",
   "metadata": {},
   "outputs": [
    {
     "data": {
      "text/html": [
       "<div>\n",
       "<style scoped>\n",
       "    .dataframe tbody tr th:only-of-type {\n",
       "        vertical-align: middle;\n",
       "    }\n",
       "\n",
       "    .dataframe tbody tr th {\n",
       "        vertical-align: top;\n",
       "    }\n",
       "\n",
       "    .dataframe thead th {\n",
       "        text-align: right;\n",
       "    }\n",
       "</style>\n",
       "<table border=\"1\" class=\"dataframe\">\n",
       "  <thead>\n",
       "    <tr style=\"text-align: right;\">\n",
       "      <th></th>\n",
       "      <th>title</th>\n",
       "      <th>lprice</th>\n",
       "      <th>hprice</th>\n",
       "      <th>link</th>\n",
       "      <th>mall</th>\n",
       "    </tr>\n",
       "  </thead>\n",
       "  <tbody>\n",
       "    <tr>\n",
       "      <th>0</th>\n",
       "      <td>[&lt;b&gt;몰스킨&lt;/b&gt;] 2024년 클래식 다이어리 (12개월) (데일리, 위클리, ...</td>\n",
       "      <td>16200</td>\n",
       "      <td></td>\n",
       "      <td>https://search.shopping.naver.com/gate.nhn?id=...</td>\n",
       "      <td>몰스킨공식온라인스토어</td>\n",
       "    </tr>\n",
       "    <tr>\n",
       "      <th>1</th>\n",
       "      <td>올젠 &lt;b&gt;몰스킨&lt;/b&gt; 자켓 ZOD4KG1311</td>\n",
       "      <td>72110</td>\n",
       "      <td></td>\n",
       "      <td>https://search.shopping.naver.com/gate.nhn?id=...</td>\n",
       "      <td>네이버</td>\n",
       "    </tr>\n",
       "    <tr>\n",
       "      <th>2</th>\n",
       "      <td>&lt;b&gt;몰스킨&lt;/b&gt; 2024 다이어리 클래식 소프트커버 데일리 라지 2024년 24년</td>\n",
       "      <td>23400</td>\n",
       "      <td></td>\n",
       "      <td>https://search.shopping.naver.com/gate.nhn?id=...</td>\n",
       "      <td>베스트펜</td>\n",
       "    </tr>\n",
       "    <tr>\n",
       "      <th>3</th>\n",
       "      <td>르몽생미셸 지니언 워크자켓 블루 &lt;b&gt;몰스킨&lt;/b&gt; 프렌치 워크자켓</td>\n",
       "      <td>378000</td>\n",
       "      <td></td>\n",
       "      <td>https://search.shopping.naver.com/gate.nhn?id=...</td>\n",
       "      <td>스프링스트릿 마켓</td>\n",
       "    </tr>\n",
       "    <tr>\n",
       "      <th>4</th>\n",
       "      <td>르몽생미셸 프렌치 &lt;b&gt;몰스킨&lt;/b&gt; 워크자켓 지니언 블루</td>\n",
       "      <td>154000</td>\n",
       "      <td></td>\n",
       "      <td>https://search.shopping.naver.com/gate.nhn?id=...</td>\n",
       "      <td>11번가</td>\n",
       "    </tr>\n",
       "  </tbody>\n",
       "</table>\n",
       "</div>"
      ],
      "text/plain": [
       "                                               title  lprice hprice  \\\n",
       "0  [<b>몰스킨</b>] 2024년 클래식 다이어리 (12개월) (데일리, 위클리, ...   16200          \n",
       "1                        올젠 <b>몰스킨</b> 자켓 ZOD4KG1311   72110          \n",
       "2    <b>몰스킨</b> 2024 다이어리 클래식 소프트커버 데일리 라지 2024년 24년   23400          \n",
       "3              르몽생미셸 지니언 워크자켓 블루 <b>몰스킨</b> 프렌치 워크자켓  378000          \n",
       "4                   르몽생미셸 프렌치 <b>몰스킨</b> 워크자켓 지니언 블루  154000          \n",
       "\n",
       "                                                link         mall  \n",
       "0  https://search.shopping.naver.com/gate.nhn?id=...  몰스킨공식온라인스토어  \n",
       "1  https://search.shopping.naver.com/gate.nhn?id=...          네이버  \n",
       "2  https://search.shopping.naver.com/gate.nhn?id=...         베스트펜  \n",
       "3  https://search.shopping.naver.com/gate.nhn?id=...    스프링스트릿 마켓  \n",
       "4  https://search.shopping.naver.com/gate.nhn?id=...         11번가  "
      ]
     },
     "execution_count": 91,
     "metadata": {},
     "output_type": "execute_result"
    }
   ],
   "source": [
    "get_fields(one_result)"
   ]
  },
  {
   "cell_type": "code",
   "execution_count": 92,
   "id": "7b07432a-0228-413c-bde6-1d3e851731b1",
   "metadata": {},
   "outputs": [],
   "source": [
    "# title에 b tag삭제"
   ]
  },
  {
   "cell_type": "code",
   "execution_count": 93,
   "id": "552ea1a3-cd0e-40b3-91f0-067298778144",
   "metadata": {},
   "outputs": [],
   "source": [
    "def delete_tag(input_str):\n",
    "    input_str = input_str.replace(\"<b>\",\"\")\n",
    "    input_str = input_str.replace(\"</b>\",\"\")\n",
    "\n",
    "    return input_str"
   ]
  },
  {
   "cell_type": "code",
   "execution_count": 94,
   "id": "9491f079-fd8f-4f88-92c9-721d5cbb2a2c",
   "metadata": {},
   "outputs": [],
   "source": [
    "def get_fields(json_data):\n",
    "    title = [delete_tag(each['title']) for each in json_data['items']]\n",
    "    link = [each['link'] for each in json_data['items']]\n",
    "    lprice = [each['lprice'] for each in json_data['items']]\n",
    "    hprice = [each['hprice'] for each in json_data['items']]\n",
    "    mall_name = [each['mallName'] for each in json_data['items']]\n",
    "\n",
    "    result_pd = pd.DataFrame({'title':title, 'lprice':lprice,\n",
    "                              'hprice':hprice, 'link':link,\n",
    "                              'mall':mall_name},\n",
    "                             columns=['title', 'lprice', 'hprice', 'link','mall'])\n",
    "    return result_pd\n",
    "    "
   ]
  },
  {
   "cell_type": "code",
   "execution_count": 95,
   "id": "2d33f1a9-c217-4a22-968b-4975fb93dbd3",
   "metadata": {},
   "outputs": [
    {
     "name": "stdout",
     "output_type": "stream",
     "text": [
      "[2024-02-23 16:12:52.877339] Url Request Seccess\n"
     ]
    }
   ],
   "source": [
    "url = gen_search_url('shop','몰스킨',1,5)\n",
    "json_result = get_result_onpage(url)\n",
    "pd_result = get_fields(json_result)"
   ]
  },
  {
   "cell_type": "code",
   "execution_count": 96,
   "id": "ff4936f6-7728-42af-84a2-3bef73953aef",
   "metadata": {},
   "outputs": [
    {
     "data": {
      "text/html": [
       "<div>\n",
       "<style scoped>\n",
       "    .dataframe tbody tr th:only-of-type {\n",
       "        vertical-align: middle;\n",
       "    }\n",
       "\n",
       "    .dataframe tbody tr th {\n",
       "        vertical-align: top;\n",
       "    }\n",
       "\n",
       "    .dataframe thead th {\n",
       "        text-align: right;\n",
       "    }\n",
       "</style>\n",
       "<table border=\"1\" class=\"dataframe\">\n",
       "  <thead>\n",
       "    <tr style=\"text-align: right;\">\n",
       "      <th></th>\n",
       "      <th>title</th>\n",
       "      <th>lprice</th>\n",
       "      <th>hprice</th>\n",
       "      <th>link</th>\n",
       "      <th>mall</th>\n",
       "    </tr>\n",
       "  </thead>\n",
       "  <tbody>\n",
       "    <tr>\n",
       "      <th>0</th>\n",
       "      <td>[몰스킨] 2024년 클래식 다이어리 (12개월) (데일리, 위클리, 먼슬리)</td>\n",
       "      <td>16200</td>\n",
       "      <td></td>\n",
       "      <td>https://search.shopping.naver.com/gate.nhn?id=...</td>\n",
       "      <td>몰스킨공식온라인스토어</td>\n",
       "    </tr>\n",
       "    <tr>\n",
       "      <th>1</th>\n",
       "      <td>올젠 몰스킨 자켓 ZOD4KG1311</td>\n",
       "      <td>72110</td>\n",
       "      <td></td>\n",
       "      <td>https://search.shopping.naver.com/gate.nhn?id=...</td>\n",
       "      <td>네이버</td>\n",
       "    </tr>\n",
       "    <tr>\n",
       "      <th>2</th>\n",
       "      <td>몰스킨 2024 다이어리 클래식 소프트커버 데일리 라지 2024년 24년</td>\n",
       "      <td>23400</td>\n",
       "      <td></td>\n",
       "      <td>https://search.shopping.naver.com/gate.nhn?id=...</td>\n",
       "      <td>베스트펜</td>\n",
       "    </tr>\n",
       "    <tr>\n",
       "      <th>3</th>\n",
       "      <td>르몽생미셸 지니언 워크자켓 블루 몰스킨 프렌치 워크자켓</td>\n",
       "      <td>378000</td>\n",
       "      <td></td>\n",
       "      <td>https://search.shopping.naver.com/gate.nhn?id=...</td>\n",
       "      <td>스프링스트릿 마켓</td>\n",
       "    </tr>\n",
       "    <tr>\n",
       "      <th>4</th>\n",
       "      <td>르몽생미셸 프렌치 몰스킨 워크자켓 지니언 블루</td>\n",
       "      <td>154000</td>\n",
       "      <td></td>\n",
       "      <td>https://search.shopping.naver.com/gate.nhn?id=...</td>\n",
       "      <td>11번가</td>\n",
       "    </tr>\n",
       "  </tbody>\n",
       "</table>\n",
       "</div>"
      ],
      "text/plain": [
       "                                         title  lprice hprice  \\\n",
       "0  [몰스킨] 2024년 클래식 다이어리 (12개월) (데일리, 위클리, 먼슬리)   16200          \n",
       "1                         올젠 몰스킨 자켓 ZOD4KG1311   72110          \n",
       "2     몰스킨 2024 다이어리 클래식 소프트커버 데일리 라지 2024년 24년   23400          \n",
       "3               르몽생미셸 지니언 워크자켓 블루 몰스킨 프렌치 워크자켓  378000          \n",
       "4                    르몽생미셸 프렌치 몰스킨 워크자켓 지니언 블루  154000          \n",
       "\n",
       "                                                link         mall  \n",
       "0  https://search.shopping.naver.com/gate.nhn?id=...  몰스킨공식온라인스토어  \n",
       "1  https://search.shopping.naver.com/gate.nhn?id=...          네이버  \n",
       "2  https://search.shopping.naver.com/gate.nhn?id=...         베스트펜  \n",
       "3  https://search.shopping.naver.com/gate.nhn?id=...    스프링스트릿 마켓  \n",
       "4  https://search.shopping.naver.com/gate.nhn?id=...         11번가  "
      ]
     },
     "execution_count": 96,
     "metadata": {},
     "output_type": "execute_result"
    }
   ],
   "source": [
    "pd_result"
   ]
  },
  {
   "cell_type": "code",
   "execution_count": 100,
   "id": "8fddaca4-047d-46f5-befc-2effcfb23ad6",
   "metadata": {},
   "outputs": [
    {
     "name": "stdout",
     "output_type": "stream",
     "text": [
      "[2024-02-23 16:13:12.657094] Url Request Seccess\n",
      "[2024-02-23 16:13:12.708977] Url Request Seccess\n",
      "[2024-02-23 16:13:12.778131] Url Request Seccess\n",
      "[2024-02-23 16:13:12.902420] Url Request Seccess\n",
      "[2024-02-23 16:13:12.952798] Url Request Seccess\n",
      "[2024-02-23 16:13:13.018447] Url Request Seccess\n",
      "[2024-02-23 16:13:13.299340] Url Request Seccess\n",
      "[2024-02-23 16:13:13.364635] Url Request Seccess\n",
      "[2024-02-23 16:13:13.431366] Url Request Seccess\n",
      "[2024-02-23 16:13:13.496193] Url Request Seccess\n"
     ]
    }
   ],
   "source": [
    "result_mol = []\n",
    "\n",
    "for n in range(1,1000,100):\n",
    "    url = gen_search_url('shop','\"몰스킨\"',n,100)\n",
    "    json_result = get_result_onpage(url)\n",
    "    pd_result = get_fields(json_result)\n",
    "\n",
    "    result_mol.append(pd_result)\n",
    "result_mol = pd.concat(result_mol)"
   ]
  },
  {
   "cell_type": "code",
   "execution_count": 101,
   "id": "b4fd210d-9549-4a04-8758-8f994912e447",
   "metadata": {},
   "outputs": [
    {
     "data": {
      "text/html": [
       "<div>\n",
       "<style scoped>\n",
       "    .dataframe tbody tr th:only-of-type {\n",
       "        vertical-align: middle;\n",
       "    }\n",
       "\n",
       "    .dataframe tbody tr th {\n",
       "        vertical-align: top;\n",
       "    }\n",
       "\n",
       "    .dataframe thead th {\n",
       "        text-align: right;\n",
       "    }\n",
       "</style>\n",
       "<table border=\"1\" class=\"dataframe\">\n",
       "  <thead>\n",
       "    <tr style=\"text-align: right;\">\n",
       "      <th></th>\n",
       "      <th>title</th>\n",
       "      <th>lprice</th>\n",
       "      <th>hprice</th>\n",
       "      <th>link</th>\n",
       "      <th>mall</th>\n",
       "    </tr>\n",
       "  </thead>\n",
       "  <tbody>\n",
       "    <tr>\n",
       "      <th>0</th>\n",
       "      <td>[몰스킨] 2024년 클래식 다이어리 (12개월) (데일리, 위클리, 먼슬리)</td>\n",
       "      <td>16200</td>\n",
       "      <td></td>\n",
       "      <td>https://search.shopping.naver.com/gate.nhn?id=...</td>\n",
       "      <td>몰스킨공식온라인스토어</td>\n",
       "    </tr>\n",
       "    <tr>\n",
       "      <th>1</th>\n",
       "      <td>몰스킨 2024 다이어리 클래식 소프트커버 데일리 라지 2024년 24년</td>\n",
       "      <td>23400</td>\n",
       "      <td></td>\n",
       "      <td>https://search.shopping.naver.com/gate.nhn?id=...</td>\n",
       "      <td>베스트펜</td>\n",
       "    </tr>\n",
       "    <tr>\n",
       "      <th>2</th>\n",
       "      <td>스타벅스 2024년 몰스킨 다이어리 데일리 플래너 일기장 노트 스벅 카페 윈터 e프리퀀시</td>\n",
       "      <td>28000</td>\n",
       "      <td></td>\n",
       "      <td>https://search.shopping.naver.com/gate.nhn?id=...</td>\n",
       "      <td>유니스스토어</td>\n",
       "    </tr>\n",
       "    <tr>\n",
       "      <th>3</th>\n",
       "      <td>몰스킨 2024 위클리 다이어리 라지 상품선택</td>\n",
       "      <td>25200</td>\n",
       "      <td></td>\n",
       "      <td>https://search.shopping.naver.com/gate.nhn?id=...</td>\n",
       "      <td>네이버</td>\n",
       "    </tr>\n",
       "    <tr>\n",
       "      <th>4</th>\n",
       "      <td>몰스킨 2024년 위클리 하드커버 라지 다이어리</td>\n",
       "      <td>26640</td>\n",
       "      <td></td>\n",
       "      <td>https://search.shopping.naver.com/gate.nhn?id=...</td>\n",
       "      <td>펜카페스토어</td>\n",
       "    </tr>\n",
       "    <tr>\n",
       "      <th>...</th>\n",
       "      <td>...</td>\n",
       "      <td>...</td>\n",
       "      <td>...</td>\n",
       "      <td>...</td>\n",
       "      <td>...</td>\n",
       "    </tr>\n",
       "    <tr>\n",
       "      <th>95</th>\n",
       "      <td>모레스킨 다이어리 2024년 데일리 하드커버 포켓사이즈  스칼렛레드  위클리  포켓...</td>\n",
       "      <td>57200</td>\n",
       "      <td></td>\n",
       "      <td>https://search.shopping.naver.com/gate.nhn?id=...</td>\n",
       "      <td>쿠팡</td>\n",
       "    </tr>\n",
       "    <tr>\n",
       "      <th>96</th>\n",
       "      <td>모레스킨 다이어리 2024년 데일리 하드커버 포켓사이즈  머틀그린  위클리  포켓사...</td>\n",
       "      <td>57200</td>\n",
       "      <td></td>\n",
       "      <td>https://search.shopping.naver.com/gate.nhn?id=...</td>\n",
       "      <td>쿠팡</td>\n",
       "    </tr>\n",
       "    <tr>\n",
       "      <th>97</th>\n",
       "      <td>몰스킨 까이에 룰드 크래프트</td>\n",
       "      <td>34197</td>\n",
       "      <td></td>\n",
       "      <td>https://search.shopping.naver.com/gate.nhn?id=...</td>\n",
       "      <td>네이버</td>\n",
       "    </tr>\n",
       "    <tr>\n",
       "      <th>98</th>\n",
       "      <td>몰스킨 Moleskine 20232024 주간 플래너 18M 포켓 스칼렛 레드 하드...</td>\n",
       "      <td>35000</td>\n",
       "      <td></td>\n",
       "      <td>https://search.shopping.naver.com/gate.nhn?id=...</td>\n",
       "      <td>쿠팡</td>\n",
       "    </tr>\n",
       "    <tr>\n",
       "      <th>99</th>\n",
       "      <td>2024 스타벅스 다이어리 블랙 플래너 프리퀀시</td>\n",
       "      <td>30900</td>\n",
       "      <td></td>\n",
       "      <td>https://search.shopping.naver.com/gate.nhn?id=...</td>\n",
       "      <td>한정판매니아</td>\n",
       "    </tr>\n",
       "  </tbody>\n",
       "</table>\n",
       "<p>1000 rows × 5 columns</p>\n",
       "</div>"
      ],
      "text/plain": [
       "                                                title lprice hprice  \\\n",
       "0         [몰스킨] 2024년 클래식 다이어리 (12개월) (데일리, 위클리, 먼슬리)  16200          \n",
       "1            몰스킨 2024 다이어리 클래식 소프트커버 데일리 라지 2024년 24년  23400          \n",
       "2   스타벅스 2024년 몰스킨 다이어리 데일리 플래너 일기장 노트 스벅 카페 윈터 e프리퀀시  28000          \n",
       "3                           몰스킨 2024 위클리 다이어리 라지 상품선택  25200          \n",
       "4                          몰스킨 2024년 위클리 하드커버 라지 다이어리  26640          \n",
       "..                                                ...    ...    ...   \n",
       "95  모레스킨 다이어리 2024년 데일리 하드커버 포켓사이즈  스칼렛레드  위클리  포켓...  57200          \n",
       "96  모레스킨 다이어리 2024년 데일리 하드커버 포켓사이즈  머틀그린  위클리  포켓사...  57200          \n",
       "97                                    몰스킨 까이에 룰드 크래프트  34197          \n",
       "98  몰스킨 Moleskine 20232024 주간 플래너 18M 포켓 스칼렛 레드 하드...  35000          \n",
       "99                         2024 스타벅스 다이어리 블랙 플래너 프리퀀시  30900          \n",
       "\n",
       "                                                 link         mall  \n",
       "0   https://search.shopping.naver.com/gate.nhn?id=...  몰스킨공식온라인스토어  \n",
       "1   https://search.shopping.naver.com/gate.nhn?id=...         베스트펜  \n",
       "2   https://search.shopping.naver.com/gate.nhn?id=...       유니스스토어  \n",
       "3   https://search.shopping.naver.com/gate.nhn?id=...          네이버  \n",
       "4   https://search.shopping.naver.com/gate.nhn?id=...       펜카페스토어  \n",
       "..                                                ...          ...  \n",
       "95  https://search.shopping.naver.com/gate.nhn?id=...           쿠팡  \n",
       "96  https://search.shopping.naver.com/gate.nhn?id=...           쿠팡  \n",
       "97  https://search.shopping.naver.com/gate.nhn?id=...          네이버  \n",
       "98  https://search.shopping.naver.com/gate.nhn?id=...           쿠팡  \n",
       "99  https://search.shopping.naver.com/gate.nhn?id=...       한정판매니아  \n",
       "\n",
       "[1000 rows x 5 columns]"
      ]
     },
     "execution_count": 101,
     "metadata": {},
     "output_type": "execute_result"
    }
   ],
   "source": [
    "result_mol"
   ]
  },
  {
   "cell_type": "code",
   "execution_count": 108,
   "id": "1a34a3f3-216d-4907-b817-a4b590a507e7",
   "metadata": {},
   "outputs": [
    {
     "name": "stdout",
     "output_type": "stream",
     "text": [
      "<class 'pandas.core.frame.DataFrame'>\n",
      "RangeIndex: 1000 entries, 0 to 999\n",
      "Data columns (total 5 columns):\n",
      " #   Column  Non-Null Count  Dtype \n",
      "---  ------  --------------  ----- \n",
      " 0   title   1000 non-null   object\n",
      " 1   lprice  1000 non-null   object\n",
      " 2   hprice  1000 non-null   object\n",
      " 3   link    1000 non-null   object\n",
      " 4   mall    1000 non-null   object\n",
      "dtypes: object(5)\n",
      "memory usage: 39.2+ KB\n"
     ]
    }
   ],
   "source": [
    "result_mol.reset_index(drop=True, inplace=True)\n",
    "result_mol.info()"
   ]
  },
  {
   "cell_type": "code",
   "execution_count": 114,
   "id": "aca19d63-bfe5-47d2-97b0-21b1439c520f",
   "metadata": {},
   "outputs": [
    {
     "name": "stdout",
     "output_type": "stream",
     "text": [
      "<class 'pandas.core.frame.DataFrame'>\n",
      "RangeIndex: 1000 entries, 0 to 999\n",
      "Data columns (total 5 columns):\n",
      " #   Column  Non-Null Count  Dtype  \n",
      "---  ------  --------------  -----  \n",
      " 0   title   1000 non-null   object \n",
      " 1   lprice  1000 non-null   float64\n",
      " 2   hprice  0 non-null      float64\n",
      " 3   link    1000 non-null   object \n",
      " 4   mall    1000 non-null   object \n",
      "dtypes: float64(2), object(3)\n",
      "memory usage: 39.2+ KB\n"
     ]
    }
   ],
   "source": [
    "result_mol['lprice'] = result_mol['lprice'].astype('float')\n",
    "result_mol['hprice'] = result_mol['hprice'].astype('float')\n",
    "result_mol['lprice'] = pd.to_numeric(result_mol['lprice'], errors='coerce')\n",
    "result_mol['hprice'] = pd.to_numeric(result_mol['hprice'], errors='coerce')\n",
    "\n",
    "result_mol.info()"
   ]
  },
  {
   "cell_type": "code",
   "execution_count": 119,
   "id": "3f158dc9-7f0f-47a0-b23b-3f0e46ae1400",
   "metadata": {},
   "outputs": [
    {
     "ename": "ModuleNotFoundError",
     "evalue": "No module named 'xlsxwriter'",
     "output_type": "error",
     "traceback": [
      "\u001b[0;31m---------------------------------------------------------------------------\u001b[0m",
      "\u001b[0;31mModuleNotFoundError\u001b[0m                       Traceback (most recent call last)",
      "Cell \u001b[0;32mIn[119], line 1\u001b[0m\n\u001b[0;32m----> 1\u001b[0m writer \u001b[38;5;241m=\u001b[39m \u001b[43mpd\u001b[49m\u001b[38;5;241;43m.\u001b[39;49m\u001b[43mExcelWriter\u001b[49m\u001b[43m(\u001b[49m\u001b[38;5;124;43m\"\u001b[39;49m\u001b[38;5;124;43m../../data/12.naver_api/molskin_diary_in_naver_shop.xlsx\u001b[39;49m\u001b[38;5;124;43m\"\u001b[39;49m\u001b[43m,\u001b[49m\u001b[43m \u001b[49m\u001b[43mengine\u001b[49m\u001b[38;5;241;43m=\u001b[39;49m\u001b[38;5;124;43m'\u001b[39;49m\u001b[38;5;124;43mxlsxwriter\u001b[39;49m\u001b[38;5;124;43m'\u001b[39;49m\u001b[43m)\u001b[49m\n\u001b[1;32m      3\u001b[0m result_mol\u001b[38;5;241m.\u001b[39mto_excel(writer,sheet_name\u001b[38;5;241m=\u001b[39m\u001b[38;5;124m'\u001b[39m\u001b[38;5;124mSheet1\u001b[39m\u001b[38;5;124m'\u001b[39m)\n\u001b[1;32m      5\u001b[0m workbook \u001b[38;5;241m=\u001b[39m writer\u001b[38;5;241m.\u001b[39mbook\n",
      "File \u001b[0;32m~/venv/eda_venv/lib/python3.10/site-packages/pandas/io/excel/_xlsxwriter.py:197\u001b[0m, in \u001b[0;36mXlsxWriter.__init__\u001b[0;34m(self, path, engine, date_format, datetime_format, mode, storage_options, if_sheet_exists, engine_kwargs, **kwargs)\u001b[0m\n\u001b[1;32m    184\u001b[0m \u001b[38;5;28;01mdef\u001b[39;00m \u001b[38;5;21m__init__\u001b[39m(\n\u001b[1;32m    185\u001b[0m     \u001b[38;5;28mself\u001b[39m,\n\u001b[1;32m    186\u001b[0m     path: FilePath \u001b[38;5;241m|\u001b[39m WriteExcelBuffer \u001b[38;5;241m|\u001b[39m ExcelWriter,\n\u001b[0;32m   (...)\u001b[0m\n\u001b[1;32m    195\u001b[0m ) \u001b[38;5;241m-\u001b[39m\u001b[38;5;241m>\u001b[39m \u001b[38;5;28;01mNone\u001b[39;00m:\n\u001b[1;32m    196\u001b[0m     \u001b[38;5;66;03m# Use the xlsxwriter module as the Excel writer.\u001b[39;00m\n\u001b[0;32m--> 197\u001b[0m     \u001b[38;5;28;01mfrom\u001b[39;00m \u001b[38;5;21;01mxlsxwriter\u001b[39;00m \u001b[38;5;28;01mimport\u001b[39;00m Workbook\n\u001b[1;32m    199\u001b[0m     engine_kwargs \u001b[38;5;241m=\u001b[39m combine_kwargs(engine_kwargs, kwargs)\n\u001b[1;32m    201\u001b[0m     \u001b[38;5;28;01mif\u001b[39;00m mode \u001b[38;5;241m==\u001b[39m \u001b[38;5;124m\"\u001b[39m\u001b[38;5;124ma\u001b[39m\u001b[38;5;124m\"\u001b[39m:\n",
      "\u001b[0;31mModuleNotFoundError\u001b[0m: No module named 'xlsxwriter'"
     ]
    }
   ],
   "source": [
    "writer = pd.ExcelWriter(\"../../data/12.naver_api/molskin_diary_in_naver_shop.xlsx\", engine='xlsxwriter')\n",
    "\n",
    "result_mol.to_excel(writer,sheet_name='Sheet1')\n",
    "\n",
    "workbook = writer.book\n",
    "worksheet = writer.sheets['Sheet1']\n",
    "worksheet.set_column('A:A',4)\n",
    "worksheet.set_column('B:B',65)\n",
    "worksheet.set_column('C:C',10)\n",
    "worksheet.set_column('D:D',10)\n",
    "worksheet.set_column('E:E',50)\n",
    "worksheet.set_column('F:F',15)\n",
    "\n",
    "worksheet.conditional_format('C2:C1001',{'type':'3_color_scale'})\n",
    "\n",
    "writer.save()"
   ]
  },
  {
   "cell_type": "code",
   "execution_count": 122,
   "id": "8e7328f7-327e-4968-bc62-af155b507ac2",
   "metadata": {},
   "outputs": [],
   "source": [
    "writer = pd.ExcelWriter(\"../../data/12.naver_api/molskin_diary_in_naver_shop.xlsx\",\n",
    "                       engine='xlsxwriter')\n",
    "\n",
    "result_mol.to_excel(writer,sheet_name='Sheet1')\n",
    "\n",
    "workbook = writer.book\n",
    "worksheet = writer.sheets['Sheet1']\n",
    "worksheet.set_column('A:A',4)\n",
    "worksheet.set_column('B:B',65)\n",
    "worksheet.set_column('C:C',10)\n",
    "worksheet.set_column('D:D',10)\n",
    "worksheet.set_column('E:E',50)\n",
    "worksheet.set_column('F:F',15)\n",
    "\n",
    "worksheet.conditional_format('C2:C1001',{'type':'3_color_scale'})\n",
    "\n",
    "writer.close()"
   ]
  },
  {
   "cell_type": "code",
   "execution_count": null,
   "id": "d8c78d9d-d839-4a05-960c-8e1b376e0d4f",
   "metadata": {},
   "outputs": [],
   "source": []
  }
 ],
 "metadata": {
  "kernelspec": {
   "display_name": "Python 3 (ipykernel)",
   "language": "python",
   "name": "python3"
  },
  "language_info": {
   "codemirror_mode": {
    "name": "ipython",
    "version": 3
   },
   "file_extension": ".py",
   "mimetype": "text/x-python",
   "name": "python",
   "nbconvert_exporter": "python",
   "pygments_lexer": "ipython3",
   "version": "3.10.12"
  }
 },
 "nbformat": 4,
 "nbformat_minor": 5
}
