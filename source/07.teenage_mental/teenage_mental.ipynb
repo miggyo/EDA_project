{
 "cells": [
  {
   "cell_type": "code",
   "execution_count": 1,
   "id": "0d745ddc-4d63-462e-a87c-39b33a1d40bc",
   "metadata": {},
   "outputs": [],
   "source": [
    "url=\"https://github.com/PinkWink/playing_data/raw/master/data/teenage_mental.xls\""
   ]
  },
  {
   "cell_type": "code",
   "execution_count": 16,
   "id": "ee00067c-27c1-4bd9-848f-aa308a1b0d1f",
   "metadata": {},
   "outputs": [],
   "source": [
    "import pandas as pd\n",
    "import matplotlib.pyplot as plt\n",
    "import koreanize_matplotlib"
   ]
  },
  {
   "cell_type": "code",
   "execution_count": 17,
   "id": "c3e8a6e4-e409-4a50-85be-bfd71834c4b9",
   "metadata": {},
   "outputs": [],
   "source": [
    "plt.rcParams['axes.unicode_minus']=False"
   ]
  },
  {
   "cell_type": "code",
   "execution_count": 5,
   "id": "17b008aa-7dea-497a-ade8-58adad5444ba",
   "metadata": {},
   "outputs": [
    {
     "data": {
      "text/html": [
       "<div>\n",
       "<style scoped>\n",
       "    .dataframe tbody tr th:only-of-type {\n",
       "        vertical-align: middle;\n",
       "    }\n",
       "\n",
       "    .dataframe tbody tr th {\n",
       "        vertical-align: top;\n",
       "    }\n",
       "\n",
       "    .dataframe thead th {\n",
       "        text-align: right;\n",
       "    }\n",
       "</style>\n",
       "<table border=\"1\" class=\"dataframe\">\n",
       "  <thead>\n",
       "    <tr style=\"text-align: right;\">\n",
       "      <th></th>\n",
       "      <th>전체</th>\n",
       "      <th>남학생</th>\n",
       "      <th>여학생</th>\n",
       "      <th>전체.1</th>\n",
       "      <th>남학생.1</th>\n",
       "      <th>여학생.1</th>\n",
       "      <th>전체.2</th>\n",
       "      <th>남학생.2</th>\n",
       "      <th>여학생.2</th>\n",
       "    </tr>\n",
       "  </thead>\n",
       "  <tbody>\n",
       "    <tr>\n",
       "      <th>0</th>\n",
       "      <td>42.7</td>\n",
       "      <td>34.5</td>\n",
       "      <td>51.5</td>\n",
       "      <td>29.6</td>\n",
       "      <td>24.2</td>\n",
       "      <td>35.4</td>\n",
       "      <td>15.4</td>\n",
       "      <td>11.8</td>\n",
       "      <td>19.2</td>\n",
       "    </tr>\n",
       "  </tbody>\n",
       "</table>\n",
       "</div>"
      ],
      "text/plain": [
       "     전체   남학생   여학생  전체.1  남학생.1  여학생.1  전체.2  남학생.2  여학생.2\n",
       "0  42.7  34.5  51.5  29.6   24.2   35.4  15.4   11.8   19.2"
      ]
     },
     "execution_count": 5,
     "metadata": {},
     "output_type": "execute_result"
    }
   ],
   "source": [
    "pd.read_excel(url,header=1,usecols=\"C:K\")"
   ]
  },
  {
   "cell_type": "code",
   "execution_count": 8,
   "id": "c7511fa9-2a44-49d8-b6a7-34ef104ada67",
   "metadata": {},
   "outputs": [
    {
     "data": {
      "text/html": [
       "<div>\n",
       "<style scoped>\n",
       "    .dataframe tbody tr th:only-of-type {\n",
       "        vertical-align: middle;\n",
       "    }\n",
       "\n",
       "    .dataframe tbody tr th {\n",
       "        vertical-align: top;\n",
       "    }\n",
       "\n",
       "    .dataframe thead th {\n",
       "        text-align: right;\n",
       "    }\n",
       "</style>\n",
       "<table border=\"1\" class=\"dataframe\">\n",
       "  <thead>\n",
       "    <tr style=\"text-align: right;\">\n",
       "      <th></th>\n",
       "      <th>스트레스</th>\n",
       "      <th>스트레스남학생</th>\n",
       "      <th>스트레스여학생</th>\n",
       "      <th>우울감경험률</th>\n",
       "      <th>우울남학생</th>\n",
       "      <th>우울여학생</th>\n",
       "      <th>자살생각율</th>\n",
       "      <th>자살남학생</th>\n",
       "      <th>자살여학생</th>\n",
       "    </tr>\n",
       "  </thead>\n",
       "  <tbody>\n",
       "    <tr>\n",
       "      <th>0</th>\n",
       "      <td>42.7</td>\n",
       "      <td>34.5</td>\n",
       "      <td>51.5</td>\n",
       "      <td>29.6</td>\n",
       "      <td>24.2</td>\n",
       "      <td>35.4</td>\n",
       "      <td>15.4</td>\n",
       "      <td>11.8</td>\n",
       "      <td>19.2</td>\n",
       "    </tr>\n",
       "  </tbody>\n",
       "</table>\n",
       "</div>"
      ],
      "text/plain": [
       "   스트레스  스트레스남학생  스트레스여학생  우울감경험률  우울남학생  우울여학생  자살생각율  자살남학생  자살여학생\n",
       "0  42.7     34.5     51.5    29.6   24.2   35.4   15.4   11.8   19.2"
      ]
     },
     "execution_count": 8,
     "metadata": {},
     "output_type": "execute_result"
    }
   ],
   "source": [
    "col_names=['스트레스','스트레스남학생','스트레스여학생','우울감경험률','우울남학생','우울여학생','자살생각율','자살남학생','자살여학생']\n",
    "raw_data=pd.read_excel(url,header=1,usecols=\"C:K\", names=col_names)\n",
    "raw_data"
   ]
  },
  {
   "cell_type": "code",
   "execution_count": 11,
   "id": "3e4ba3fa-dcad-41c9-be4c-c923d955d7fe",
   "metadata": {},
   "outputs": [
    {
     "data": {
      "text/plain": [
       "42.7"
      ]
     },
     "execution_count": 11,
     "metadata": {},
     "output_type": "execute_result"
    }
   ],
   "source": [
    "raw_data.loc[0,'스트레스']"
   ]
  },
  {
   "cell_type": "code",
   "execution_count": 13,
   "id": "288306f9-5035-43c0-892d-6095465c9c4e",
   "metadata": {},
   "outputs": [
    {
     "data": {
      "text/html": [
       "<div>\n",
       "<style scoped>\n",
       "    .dataframe tbody tr th:only-of-type {\n",
       "        vertical-align: middle;\n",
       "    }\n",
       "\n",
       "    .dataframe tbody tr th {\n",
       "        vertical-align: top;\n",
       "    }\n",
       "\n",
       "    .dataframe thead th {\n",
       "        text-align: right;\n",
       "    }\n",
       "</style>\n",
       "<table border=\"1\" class=\"dataframe\">\n",
       "  <thead>\n",
       "    <tr style=\"text-align: right;\">\n",
       "      <th></th>\n",
       "      <th>스트레스</th>\n",
       "      <th>스트레스남학생</th>\n",
       "      <th>스트레스여학생</th>\n",
       "      <th>우울감경험률</th>\n",
       "      <th>우울남학생</th>\n",
       "      <th>우울여학생</th>\n",
       "      <th>자살생각율</th>\n",
       "      <th>자살남학생</th>\n",
       "      <th>자살여학생</th>\n",
       "    </tr>\n",
       "  </thead>\n",
       "  <tbody>\n",
       "    <tr>\n",
       "      <th>0</th>\n",
       "      <td>42.7</td>\n",
       "      <td>34.5</td>\n",
       "      <td>51.5</td>\n",
       "      <td>29.6</td>\n",
       "      <td>24.2</td>\n",
       "      <td>35.4</td>\n",
       "      <td>15.4</td>\n",
       "      <td>11.8</td>\n",
       "      <td>19.2</td>\n",
       "    </tr>\n",
       "    <tr>\n",
       "      <th>1</th>\n",
       "      <td>57.3</td>\n",
       "      <td>65.5</td>\n",
       "      <td>48.5</td>\n",
       "      <td>70.4</td>\n",
       "      <td>75.8</td>\n",
       "      <td>64.6</td>\n",
       "      <td>84.6</td>\n",
       "      <td>88.2</td>\n",
       "      <td>80.8</td>\n",
       "    </tr>\n",
       "  </tbody>\n",
       "</table>\n",
       "</div>"
      ],
      "text/plain": [
       "   스트레스  스트레스남학생  스트레스여학생  우울감경험률  우울남학생  우울여학생  자살생각율  자살남학생  자살여학생\n",
       "0  42.7     34.5     51.5    29.6   24.2   35.4   15.4   11.8   19.2\n",
       "1  57.3     65.5     48.5    70.4   75.8   64.6   84.6   88.2   80.8"
      ]
     },
     "execution_count": 13,
     "metadata": {},
     "output_type": "execute_result"
    }
   ],
   "source": [
    "raw_data.loc[1]=100-raw_data.loc[0]\n",
    "raw_data"
   ]
  },
  {
   "cell_type": "code",
   "execution_count": 14,
   "id": "c3ca4b57-7d84-4b66-8e1d-14c44783942c",
   "metadata": {},
   "outputs": [
    {
     "data": {
      "text/html": [
       "<div>\n",
       "<style scoped>\n",
       "    .dataframe tbody tr th:only-of-type {\n",
       "        vertical-align: middle;\n",
       "    }\n",
       "\n",
       "    .dataframe tbody tr th {\n",
       "        vertical-align: top;\n",
       "    }\n",
       "\n",
       "    .dataframe thead th {\n",
       "        text-align: right;\n",
       "    }\n",
       "</style>\n",
       "<table border=\"1\" class=\"dataframe\">\n",
       "  <thead>\n",
       "    <tr style=\"text-align: right;\">\n",
       "      <th></th>\n",
       "      <th>스트레스</th>\n",
       "      <th>스트레스남학생</th>\n",
       "      <th>스트레스여학생</th>\n",
       "      <th>우울감경험률</th>\n",
       "      <th>우울남학생</th>\n",
       "      <th>우울여학생</th>\n",
       "      <th>자살생각율</th>\n",
       "      <th>자살남학생</th>\n",
       "      <th>자살여학생</th>\n",
       "      <th>응답</th>\n",
       "    </tr>\n",
       "  </thead>\n",
       "  <tbody>\n",
       "    <tr>\n",
       "      <th>0</th>\n",
       "      <td>42.7</td>\n",
       "      <td>34.5</td>\n",
       "      <td>51.5</td>\n",
       "      <td>29.6</td>\n",
       "      <td>24.2</td>\n",
       "      <td>35.4</td>\n",
       "      <td>15.4</td>\n",
       "      <td>11.8</td>\n",
       "      <td>19.2</td>\n",
       "      <td>그렇다</td>\n",
       "    </tr>\n",
       "    <tr>\n",
       "      <th>1</th>\n",
       "      <td>57.3</td>\n",
       "      <td>65.5</td>\n",
       "      <td>48.5</td>\n",
       "      <td>70.4</td>\n",
       "      <td>75.8</td>\n",
       "      <td>64.6</td>\n",
       "      <td>84.6</td>\n",
       "      <td>88.2</td>\n",
       "      <td>80.8</td>\n",
       "      <td>아니다</td>\n",
       "    </tr>\n",
       "  </tbody>\n",
       "</table>\n",
       "</div>"
      ],
      "text/plain": [
       "   스트레스  스트레스남학생  스트레스여학생  우울감경험률  우울남학생  우울여학생  자살생각율  자살남학생  자살여학생   응답\n",
       "0  42.7     34.5     51.5    29.6   24.2   35.4   15.4   11.8   19.2  그렇다\n",
       "1  57.3     65.5     48.5    70.4   75.8   64.6   84.6   88.2   80.8  아니다"
      ]
     },
     "execution_count": 14,
     "metadata": {},
     "output_type": "execute_result"
    }
   ],
   "source": [
    "raw_data['응답']=['그렇다','아니다']\n",
    "raw_data"
   ]
  },
  {
   "cell_type": "code",
   "execution_count": 15,
   "id": "11b5340c-4b31-4c72-aede-853527c51120",
   "metadata": {},
   "outputs": [
    {
     "data": {
      "text/html": [
       "<div>\n",
       "<style scoped>\n",
       "    .dataframe tbody tr th:only-of-type {\n",
       "        vertical-align: middle;\n",
       "    }\n",
       "\n",
       "    .dataframe tbody tr th {\n",
       "        vertical-align: top;\n",
       "    }\n",
       "\n",
       "    .dataframe thead th {\n",
       "        text-align: right;\n",
       "    }\n",
       "</style>\n",
       "<table border=\"1\" class=\"dataframe\">\n",
       "  <thead>\n",
       "    <tr style=\"text-align: right;\">\n",
       "      <th></th>\n",
       "      <th>스트레스</th>\n",
       "      <th>스트레스남학생</th>\n",
       "      <th>스트레스여학생</th>\n",
       "      <th>우울감경험률</th>\n",
       "      <th>우울남학생</th>\n",
       "      <th>우울여학생</th>\n",
       "      <th>자살생각율</th>\n",
       "      <th>자살남학생</th>\n",
       "      <th>자살여학생</th>\n",
       "    </tr>\n",
       "    <tr>\n",
       "      <th>응답</th>\n",
       "      <th></th>\n",
       "      <th></th>\n",
       "      <th></th>\n",
       "      <th></th>\n",
       "      <th></th>\n",
       "      <th></th>\n",
       "      <th></th>\n",
       "      <th></th>\n",
       "      <th></th>\n",
       "    </tr>\n",
       "  </thead>\n",
       "  <tbody>\n",
       "    <tr>\n",
       "      <th>그렇다</th>\n",
       "      <td>42.7</td>\n",
       "      <td>34.5</td>\n",
       "      <td>51.5</td>\n",
       "      <td>29.6</td>\n",
       "      <td>24.2</td>\n",
       "      <td>35.4</td>\n",
       "      <td>15.4</td>\n",
       "      <td>11.8</td>\n",
       "      <td>19.2</td>\n",
       "    </tr>\n",
       "    <tr>\n",
       "      <th>아니다</th>\n",
       "      <td>57.3</td>\n",
       "      <td>65.5</td>\n",
       "      <td>48.5</td>\n",
       "      <td>70.4</td>\n",
       "      <td>75.8</td>\n",
       "      <td>64.6</td>\n",
       "      <td>84.6</td>\n",
       "      <td>88.2</td>\n",
       "      <td>80.8</td>\n",
       "    </tr>\n",
       "  </tbody>\n",
       "</table>\n",
       "</div>"
      ],
      "text/plain": [
       "     스트레스  스트레스남학생  스트레스여학생  우울감경험률  우울남학생  우울여학생  자살생각율  자살남학생  자살여학생\n",
       "응답                                                                    \n",
       "그렇다  42.7     34.5     51.5    29.6   24.2   35.4   15.4   11.8   19.2\n",
       "아니다  57.3     65.5     48.5    70.4   75.8   64.6   84.6   88.2   80.8"
      ]
     },
     "execution_count": 15,
     "metadata": {},
     "output_type": "execute_result"
    }
   ],
   "source": [
    "raw_data=raw_data.set_index('응답')\n",
    "raw_data"
   ]
  },
  {
   "cell_type": "code",
   "execution_count": 25,
   "id": "c52504ad-001e-460e-a835-1aaec543ba54",
   "metadata": {},
   "outputs": [
    {
     "data": {
      "image/png": "[encoded data removed]",
      "text/plain": [
       "<Figure size 1400x600 with 3 Axes>"
      ]
     },
     "metadata": {},
     "output_type": "display_data"
    }
   ],
   "source": [
    "f,ax=plt.subplots(1,3,figsize=(14,6))\n",
    "\n",
    "\n",
    "raw_data['스트레스'].plot.pie(explode=[0,0.02],ax=ax[0],autopct='%.1f')\n",
    "ax[0].set_title('스트레스를 받은적 있다')\n",
    "ax[0].set_ylabel('')\n",
    "\n",
    "raw_data['우울감경험률'].plot.pie(explode=[0,0.02],ax=ax[1],autopct='%.1f')\n",
    "ax[1].set_title('우울증을 경험한적 있다')\n",
    "ax[1].set_ylabel('')\n",
    "\n",
    "raw_data['자살생각율'].plot.pie(explode=[0,0.02],ax=ax[2],autopct='%.1f')\n",
    "ax[2].set_title('자살을 고민한적 있다')\n",
    "ax[2].set_ylabel('')\n",
    "\n",
    "plt.show()"
   ]
  },
  {
   "cell_type": "code",
   "execution_count": null,
   "id": "ad5390dd-ee5f-4373-a0a5-ecfaf5adb32a",
   "metadata": {},
   "outputs": [],
   "source": [
    "\n"
   ]
  }
 ],
 "metadata": {
  "kernelspec": {
   "display_name": "Python 3 (ipykernel)",
   "language": "python",
   "name": "python3"
  },
  "language_info": {
   "codemirror_mode": {
    "name": "ipython",
    "version": 3
   },
   "file_extension": ".py",
   "mimetype": "text/x-python",
   "name": "python",
   "nbconvert_exporter": "python",
   "pygments_lexer": "ipython3",
   "version": "3.10.12"
  }
 },
 "nbformat": 4,
 "nbformat_minor": 5
}
