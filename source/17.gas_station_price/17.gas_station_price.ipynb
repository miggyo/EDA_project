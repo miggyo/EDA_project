{
 "cells": [
  {
   "cell_type": "code",
   "execution_count": 55,
   "metadata": {},
   "outputs": [],
   "source": [
    "from selenium import webdriver\n",
    "from selenium.webdriver.chrome.service import Service\n",
    "from selenium.webdriver.chrome.options import Options\n",
    "from selenium.webdriver.common.by import By\n",
    "from selenium.webdriver.support.wait import WebDriverWait\n",
    "from selenium.webdriver.common.keys import Keys\n",
    "from selenium.webdriver.support import expected_conditions as EC\n",
    "from selenium.webdriver.common.action_chains import ActionChains  #동작을 하나로 묶기\n",
    "\n",
    "from tqdm.notebook import tqdm\n",
    "from glob import glob #파일을 확인할 수 있는!\n",
    "\n",
    "import time\n",
    "import os"
   ]
  },
  {
   "cell_type": "code",
   "execution_count": 62,
   "metadata": {},
   "outputs": [],
   "source": [
    "options = webdriver.ChromeOptions()\n",
    "\n",
    "prefs = {'download.default_directory' : \"/home/min/dev_ws/EDA/data/17.gas_station_price/\",\n",
    "         'download.prompt_for_download':False}\n",
    "options.add_experimental_option('prefs',prefs)"
   ]
  },
  {
   "cell_type": "code",
   "execution_count": null,
   "metadata": {},
   "outputs": [],
   "source": [
    "\n",
    "url = \"https://www.opinet.co.kr/searRgSelect.do\"\n",
    "\n",
    "driver= webdriver.Chrome(service=Service(\"/home/min/dev_ws/EDA/driver/chromedriver-linux64/chromedriver\"),\n",
    "                         options=options)\n",
    "driver.get(url)"
   ]
  },
  {
   "cell_type": "code",
   "execution_count": 22,
   "metadata": {},
   "outputs": [
    {
     "name": "stdout",
     "output_type": "stream",
     "text": [
      "0. \n",
      "1. 서울특별시\n",
      "2. 부산광역시\n",
      "3. 대구광역시\n",
      "4. 인천광역시\n",
      "5. 광주광역시\n",
      "6. 대전광역시\n",
      "7. 울산광역시\n",
      "8. 세종특별자치시\n",
      "9. 경기도\n",
      "10. 강원특별자치도\n",
      "11. 충청북도\n",
      "12. 충청남도\n",
      "13. 전북특별자치도\n",
      "14. 전라남도\n",
      "15. 경상북도\n",
      "16. 경상남도\n",
      "17. 제주특별자치도\n"
     ]
    },
    {
     "data": {
      "text/plain": [
       "['',\n",
       " '서울특별시',\n",
       " '부산광역시',\n",
       " '대구광역시',\n",
       " '인천광역시',\n",
       " '광주광역시',\n",
       " '대전광역시',\n",
       " '울산광역시',\n",
       " '세종특별자치시',\n",
       " '경기도',\n",
       " '강원특별자치도',\n",
       " '충청북도',\n",
       " '충청남도',\n",
       " '전북특별자치도',\n",
       " '전라남도',\n",
       " '경상북도',\n",
       " '경상남도',\n",
       " '제주특별자치도']"
      ]
     },
     "execution_count": 22,
     "metadata": {},
     "output_type": "execute_result"
    }
   ],
   "source": [
    "sido = driver.find_element(By.ID,\"SIDO_NM0\")\n",
    "sido_list = sido.find_elements(By.TAG_NAME,\"option\")\n",
    "\n",
    "sido_name_list= []\n",
    "for idx, sido_name in enumerate(sido_list):\n",
    "    print(str(idx) + \". \" + sido_name.get_attribute(\"value\"))\n",
    "    sido_name_list.append(sido_name.get_attribute(\"value\"))\n",
    "\n",
    "sido_name_list"
   ]
  },
  {
   "cell_type": "code",
   "execution_count": 23,
   "metadata": {},
   "outputs": [
    {
     "data": {
      "text/plain": [
       "['서울특별시',\n",
       " '부산광역시',\n",
       " '대구광역시',\n",
       " '인천광역시',\n",
       " '광주광역시',\n",
       " '대전광역시',\n",
       " '울산광역시',\n",
       " '세종특별자치시',\n",
       " '경기도',\n",
       " '강원특별자치도',\n",
       " '충청북도',\n",
       " '충청남도',\n",
       " '전북특별자치도',\n",
       " '전라남도',\n",
       " '경상북도',\n",
       " '경상남도',\n",
       " '제주특별자치도']"
      ]
     },
     "execution_count": 23,
     "metadata": {},
     "output_type": "execute_result"
    }
   ],
   "source": [
    "sido_name_list = sido_name_list[1:]\n",
    "\n",
    "sido_name_list"
   ]
  },
  {
   "cell_type": "code",
   "execution_count": 24,
   "metadata": {},
   "outputs": [
    {
     "data": {
      "text/plain": [
       "17"
      ]
     },
     "execution_count": 24,
     "metadata": {},
     "output_type": "execute_result"
    }
   ],
   "source": [
    "len(sido_name_list)"
   ]
  },
  {
   "cell_type": "code",
   "execution_count": 27,
   "metadata": {},
   "outputs": [
    {
     "name": "stdout",
     "output_type": "stream",
     "text": [
      "서울특별시\n"
     ]
    }
   ],
   "source": [
    "print(sido_name_list[0])\n",
    "sido.send_keys(sido_name_list[0])"
   ]
  },
  {
   "cell_type": "code",
   "execution_count": 29,
   "metadata": {},
   "outputs": [
    {
     "name": "stdout",
     "output_type": "stream",
     "text": [
      "0. \n",
      "1. 강남구\n",
      "2. 강동구\n",
      "3. 강북구\n",
      "4. 강서구\n",
      "5. 관악구\n",
      "6. 광진구\n",
      "7. 구로구\n",
      "8. 금천구\n",
      "9. 노원구\n",
      "10. 도봉구\n",
      "11. 동대문구\n",
      "12. 동작구\n",
      "13. 마포구\n",
      "14. 서대문구\n",
      "15. 서초구\n",
      "16. 성동구\n",
      "17. 성북구\n",
      "18. 송파구\n",
      "19. 양천구\n",
      "20. 영등포구\n",
      "21. 용산구\n",
      "22. 은평구\n",
      "23. 종로구\n",
      "24. 중구\n",
      "25. 중랑구\n"
     ]
    }
   ],
   "source": [
    "sigungu = driver.find_element(By.ID,\"SIGUNGU_NM0\")\n",
    "sigungu_list = sigungu.find_elements(By.TAG_NAME,\"option\")\n",
    "\n",
    "sigungu_name_list= []\n",
    "for idx, sigungu_name in enumerate(sigungu_list):\n",
    "    print(str(idx) + \". \" + sigungu_name.get_attribute(\"value\"))\n",
    "    sigungu_name_list.append(sigungu_name.get_attribute(\"value\"))"
   ]
  },
  {
   "cell_type": "code",
   "execution_count": 38,
   "metadata": {},
   "outputs": [
    {
     "data": {
      "text/plain": [
       "<selenium.webdriver.remote.webelement.WebElement (session=\"f37eb48668cb69e59b678ee09e87be1e\", element=\"f.4CE7A49374091167413B3006FE22AB93.d.3BE428535C6DC380F87ECA56674F51AE.e.916\")>"
      ]
     },
     "execution_count": 38,
     "metadata": {},
     "output_type": "execute_result"
    }
   ],
   "source": [
    "sigungu"
   ]
  },
  {
   "cell_type": "code",
   "execution_count": 30,
   "metadata": {},
   "outputs": [],
   "source": [
    "sigungu_name_list = sigungu_name_list[1:]"
   ]
  },
  {
   "cell_type": "code",
   "execution_count": 31,
   "metadata": {},
   "outputs": [
    {
     "data": {
      "text/plain": [
       "25"
      ]
     },
     "execution_count": 31,
     "metadata": {},
     "output_type": "execute_result"
    }
   ],
   "source": [
    "len(sigungu_name_list)"
   ]
  },
  {
   "cell_type": "code",
   "execution_count": 32,
   "metadata": {},
   "outputs": [],
   "source": [
    "sigungu.send_keys(sigungu_name_list[3])"
   ]
  },
  {
   "cell_type": "code",
   "execution_count": 44,
   "metadata": {},
   "outputs": [
    {
     "data": {
      "application/vnd.jupyter.widget-view+json": {
       "model_id": "f56a830c8c6d41f294d3b6a4713c8059",
       "version_major": 2,
       "version_minor": 0
      },
      "text/plain": [
       "  0%|          | 0/3 [00:00<?, ?it/s]"
      ]
     },
     "metadata": {},
     "output_type": "display_data"
    }
   ],
   "source": [
    "for gu_name in tqdm(sigungu_name_list[:3]) : \n",
    "    sigungu = driver.find_element(By.ID,\"SIGUNGU_NM0\") #이줄이 없으면 왜 안될까? -> 페이지가 바뀔 때마다 드라이버가 쳐다보고 있는 html도 새로 변경되기 때문에 뿅뿅뾰!\n",
    "    sigungu.send_keys(gu_name)\n",
    "    # time.sleep(3)\n",
    "    driver.implicitly_wait"
   ]
  },
  {
   "cell_type": "code",
   "execution_count": 45,
   "metadata": {},
   "outputs": [],
   "source": [
    "driver.find_element(By.ID,\"glopopd_excel\").click()"
   ]
  },
  {
   "cell_type": "code",
   "execution_count": 47,
   "metadata": {},
   "outputs": [],
   "source": [
    "# wait = WebDriverWait(driver, 100)\n",
    "# wait.until(lambda d : revealed.is_displayed())"
   ]
  },
  {
   "cell_type": "markdown",
   "metadata": {},
   "source": [
    "EXPLICIT WAITS\n",
    "\n",
    "조건에 다다를 때까지 기다리는 것\n",
    "---\n",
    "다운로드 받는 시간도 기다려야됨\n",
    "---\n",
    "조건 : 다운로드 파일 개수 찾기"
   ]
  },
  {
   "cell_type": "markdown",
   "metadata": {},
   "source": [
    "파일 지우기"
   ]
  },
  {
   "cell_type": "code",
   "execution_count": 69,
   "metadata": {},
   "outputs": [
    {
     "data": {
      "text/plain": [
       "0"
      ]
     },
     "execution_count": 69,
     "metadata": {},
     "output_type": "execute_result"
    }
   ],
   "source": [
    "for file in glob(\"/home/min/dev_ws/EDA/data/17.gas_station_price/지역_*\") :\n",
    "    os.remove(file)\n",
    "\n",
    "len(glob(\"/home/min/dev_ws/EDA/data/17.gas_station_price/지역_*\"))"
   ]
  },
  {
   "cell_type": "markdown",
   "metadata": {},
   "source": [
    "move_ to_element : 해당 엘리멘트의 정중앙 포인트로 이동시킨다\n",
    "perform : 저장된 모든 작업을 수행\n",
    "save에 저장 된 것 : 이동된 구에서의 엑셀 버튼에 대한 정보 \n",
    "구가 이동 했다 -> 엑셀 버튼 정보를 받아 올꺼다 근데 저장안됐는데 또 눌르면 안되니까 기다린다 엑셀 버튼이 눌릴 수 있을 때까지(elecent_to_be clickable)\n",
    "\n",
    "여기서 문제는 클릭은 가능한데 아직 파일이 저장되지 않았을 경우, 파일이 다운이 안된다. 예를 들어 연달아 클릭 버튼을 눌러도 그만큼 다 다운이 안되는 것처럼\n",
    "구가 바뀌고 클릭은 가능한데 이전에 다운받던 파일이 있기 때문에 다운이 안됨\n",
    "\n",
    "해결 방법 : 파일이 다 다운될떄까지 sleep을 준다.\n"
   ]
  },
  {
   "cell_type": "code",
   "execution_count": 70,
   "metadata": {},
   "outputs": [
    {
     "data": {
      "application/vnd.jupyter.widget-view+json": {
       "model_id": "c7567f45d758480cb45ed1f6b5dc9737",
       "version_major": 2,
       "version_minor": 0
      },
      "text/plain": [
       "0it [00:00, ?it/s]"
      ]
     },
     "metadata": {},
     "output_type": "display_data"
    },
    {
     "name": "stdout",
     "output_type": "stream",
     "text": [
      "<selenium.webdriver.remote.webelement.WebElement (session=\"f37eb48668cb69e59b678ee09e87be1e\", element=\"f.4CE7A49374091167413B3006FE22AB93.d.58A841798FFF900A62B15A5909589125.e.25065\")>\n",
      "<selenium.webdriver.remote.webelement.WebElement (session=\"f37eb48668cb69e59b678ee09e87be1e\", element=\"f.4CE7A49374091167413B3006FE22AB93.d.CEFB41FA5378559F31A780B8E2FF6C4D.e.25196\")>\n",
      "<selenium.webdriver.remote.webelement.WebElement (session=\"f37eb48668cb69e59b678ee09e87be1e\", element=\"f.4CE7A49374091167413B3006FE22AB93.d.3D083CFDF856DB9D2A6266710E0E62E6.e.25342\")>\n",
      "<selenium.webdriver.remote.webelement.WebElement (session=\"f37eb48668cb69e59b678ee09e87be1e\", element=\"f.4CE7A49374091167413B3006FE22AB93.d.69A16E02D5F9F115D8C88D224E391936.e.25523\")>\n",
      "<selenium.webdriver.remote.webelement.WebElement (session=\"f37eb48668cb69e59b678ee09e87be1e\", element=\"f.4CE7A49374091167413B3006FE22AB93.d.32178326F7FF857A1E3BBDD91B47A911.e.25671\")>\n",
      "<selenium.webdriver.remote.webelement.WebElement (session=\"f37eb48668cb69e59b678ee09e87be1e\", element=\"f.4CE7A49374091167413B3006FE22AB93.d.F323C605FA042D73A84138FCE87D11C1.e.25805\")>\n",
      "<selenium.webdriver.remote.webelement.WebElement (session=\"f37eb48668cb69e59b678ee09e87be1e\", element=\"f.4CE7A49374091167413B3006FE22AB93.d.1DF85165C48C28EAB252238E7CD2D0E0.e.25956\")>\n",
      "<selenium.webdriver.remote.webelement.WebElement (session=\"f37eb48668cb69e59b678ee09e87be1e\", element=\"f.4CE7A49374091167413B3006FE22AB93.d.0A37372357B5CCE20CC0CCD3AEEF5476.e.26100\")>\n",
      "<selenium.webdriver.remote.webelement.WebElement (session=\"f37eb48668cb69e59b678ee09e87be1e\", element=\"f.4CE7A49374091167413B3006FE22AB93.d.F1AF33E755D95864B7A6ACE35DF26125.e.26243\")>\n",
      "<selenium.webdriver.remote.webelement.WebElement (session=\"f37eb48668cb69e59b678ee09e87be1e\", element=\"f.4CE7A49374091167413B3006FE22AB93.d.58C3BDD63F9808BFC207F63A206592F3.e.26399\")>\n",
      "<selenium.webdriver.remote.webelement.WebElement (session=\"f37eb48668cb69e59b678ee09e87be1e\", element=\"f.4CE7A49374091167413B3006FE22AB93.d.C2856CECE5DF434A5B3C6FF03B7476DE.e.26561\")>\n",
      "<selenium.webdriver.remote.webelement.WebElement (session=\"f37eb48668cb69e59b678ee09e87be1e\", element=\"f.4CE7A49374091167413B3006FE22AB93.d.CD59D16D87EBEBA389DD94EE71F37120.e.26700\")>\n",
      "<selenium.webdriver.remote.webelement.WebElement (session=\"f37eb48668cb69e59b678ee09e87be1e\", element=\"f.4CE7A49374091167413B3006FE22AB93.d.323E3F50F97B4EFC36FA496BD42C9E4E.e.26842\")>\n",
      "<selenium.webdriver.remote.webelement.WebElement (session=\"f37eb48668cb69e59b678ee09e87be1e\", element=\"f.4CE7A49374091167413B3006FE22AB93.d.D8EFF052078885BC748DCFCB498B1AD3.e.26995\")>\n",
      "<selenium.webdriver.remote.webelement.WebElement (session=\"f37eb48668cb69e59b678ee09e87be1e\", element=\"f.4CE7A49374091167413B3006FE22AB93.d.C8E36DFA12155E1994550CEEEA98BDB7.e.27154\")>\n",
      "<selenium.webdriver.remote.webelement.WebElement (session=\"f37eb48668cb69e59b678ee09e87be1e\", element=\"f.4CE7A49374091167413B3006FE22AB93.d.499298F574323A1B6D3E3B638122D417.e.27298\")>\n",
      "<selenium.webdriver.remote.webelement.WebElement (session=\"f37eb48668cb69e59b678ee09e87be1e\", element=\"f.4CE7A49374091167413B3006FE22AB93.d.70F4629FF4B20D66B2737D533740208F.e.27448\")>\n",
      "<selenium.webdriver.remote.webelement.WebElement (session=\"f37eb48668cb69e59b678ee09e87be1e\", element=\"f.4CE7A49374091167413B3006FE22AB93.d.EBDC3C2696BCBBF8DDFC8C5B3F68CDA2.e.27572\")>\n",
      "<selenium.webdriver.remote.webelement.WebElement (session=\"f37eb48668cb69e59b678ee09e87be1e\", element=\"f.4CE7A49374091167413B3006FE22AB93.d.43B3F56B955166D6CD111CAD86CB4974.e.27700\")>\n",
      "<selenium.webdriver.remote.webelement.WebElement (session=\"f37eb48668cb69e59b678ee09e87be1e\", element=\"f.4CE7A49374091167413B3006FE22AB93.d.0BD81B2CD35C189106E50C75C05E6A73.e.27855\")>\n",
      "<selenium.webdriver.remote.webelement.WebElement (session=\"f37eb48668cb69e59b678ee09e87be1e\", element=\"f.4CE7A49374091167413B3006FE22AB93.d.99239EC0568C96CB6AD0C1520D0BBC7B.e.27999\")>\n",
      "<selenium.webdriver.remote.webelement.WebElement (session=\"f37eb48668cb69e59b678ee09e87be1e\", element=\"f.4CE7A49374091167413B3006FE22AB93.d.B8A00E9DEA6313A73E309140A950A3FC.e.28061\")>\n",
      "<selenium.webdriver.remote.webelement.WebElement (session=\"f37eb48668cb69e59b678ee09e87be1e\", element=\"f.4CE7A49374091167413B3006FE22AB93.d.63EFFF6074573726D74F82932A0183E0.e.28090\")>\n",
      "<selenium.webdriver.remote.webelement.WebElement (session=\"f37eb48668cb69e59b678ee09e87be1e\", element=\"f.4CE7A49374091167413B3006FE22AB93.d.DFA79174368858C44E33AA638A768BFA.e.28119\")>\n",
      "<selenium.webdriver.remote.webelement.WebElement (session=\"f37eb48668cb69e59b678ee09e87be1e\", element=\"f.4CE7A49374091167413B3006FE22AB93.d.56B1A2DAA88496D7F45F7BADBF93BE7B.e.28148\")>\n"
     ]
    }
   ],
   "source": [
    "for idx, gu_name in tqdm(enumerate(sigungu_name_list)) : \n",
    "    sigungu = driver.find_element(By.ID,\"SIGUNGU_NM0\") #이줄이 없으면 왜 안될까? -> 페이지가 바뀔 때마다 드라이버가 쳐다보고 있는 html도 새로 변경되기 때문에 뿅뿅뾰!\n",
    "    sigungu.send_keys(gu_name)\n",
    "\n",
    "    save = WebDriverWait(driver,timeout=100).until(EC.element_to_be_clickable((By.ID,\"glopopd_excel\")))\n",
    "    print(save)\n",
    "    ActionChains(driver).move_to_element(save).perform() \n",
    "\n",
    "   \n",
    "   \n",
    "    save.click()\n",
    "    time.sleep(3)\n",
    "    # wait = WebDriverWait(driver, timeout=2)\n",
    "    # wait.until(len(glob(\"/home/min/dev_ws/EDA/data/17.gas_station_price/지역_*\"))==idx+1)\n",
    "    "
   ]
  },
  {
   "cell_type": "code",
   "execution_count": 72,
   "metadata": {},
   "outputs": [
    {
     "ename": "WebDriverException",
     "evalue": "Message: disconnected: not connected to DevTools\n  (failed to check if window was closed: disconnected: not connected to DevTools)\n  (Session info: chrome=122.0.6261.94)\nStacktrace:\n#0 0x563ef8e54793 <unknown>\n#1 0x563ef8b481c6 <unknown>\n#2 0x563ef8b2cfcf <unknown>\n#3 0x563ef8b2e3ff <unknown>\n#4 0x563ef8b48720 <unknown>\n#5 0x563ef8b1e8ce <unknown>\n#6 0x563ef8bc4525 <unknown>\n#7 0x563ef8bb5398 <unknown>\n#8 0x563ef8b862d3 <unknown>\n#9 0x563ef8b86c9e <unknown>\n#10 0x563ef8e188cb <unknown>\n#11 0x563ef8e1c745 <unknown>\n#12 0x563ef8e052e1 <unknown>\n#13 0x563ef8e1d2d2 <unknown>\n#14 0x563ef8de917f <unknown>\n#15 0x563ef8e42dc8 <unknown>\n#16 0x563ef8e42fc3 <unknown>\n#17 0x563ef8e53944 <unknown>\n#18 0x7f9998694ac3 <unknown>\n",
     "output_type": "error",
     "traceback": [
      "\u001b[0;31m---------------------------------------------------------------------------\u001b[0m",
      "\u001b[0;31mWebDriverException\u001b[0m                        Traceback (most recent call last)",
      "Cell \u001b[0;32mIn[72], line 1\u001b[0m\n\u001b[0;32m----> 1\u001b[0m \u001b[43mdriver\u001b[49m\u001b[38;5;241;43m.\u001b[39;49m\u001b[43mclose\u001b[49m\u001b[43m(\u001b[49m\u001b[43m)\u001b[49m\n",
      "File \u001b[0;32m~/venv/eda_venv/lib/python3.10/site-packages/selenium/webdriver/remote/webdriver.py:458\u001b[0m, in \u001b[0;36mWebDriver.close\u001b[0;34m(self)\u001b[0m\n\u001b[1;32m    450\u001b[0m \u001b[38;5;28;01mdef\u001b[39;00m \u001b[38;5;21mclose\u001b[39m(\u001b[38;5;28mself\u001b[39m) \u001b[38;5;241m-\u001b[39m\u001b[38;5;241m>\u001b[39m \u001b[38;5;28;01mNone\u001b[39;00m:\n\u001b[1;32m    451\u001b[0m \u001b[38;5;250m    \u001b[39m\u001b[38;5;124;03m\"\"\"Closes the current window.\u001b[39;00m\n\u001b[1;32m    452\u001b[0m \n\u001b[1;32m    453\u001b[0m \u001b[38;5;124;03m    :Usage:\u001b[39;00m\n\u001b[0;32m   (...)\u001b[0m\n\u001b[1;32m    456\u001b[0m \u001b[38;5;124;03m            driver.close()\u001b[39;00m\n\u001b[1;32m    457\u001b[0m \u001b[38;5;124;03m    \"\"\"\u001b[39;00m\n\u001b[0;32m--> 458\u001b[0m     \u001b[38;5;28;43mself\u001b[39;49m\u001b[38;5;241;43m.\u001b[39;49m\u001b[43mexecute\u001b[49m\u001b[43m(\u001b[49m\u001b[43mCommand\u001b[49m\u001b[38;5;241;43m.\u001b[39;49m\u001b[43mCLOSE\u001b[49m\u001b[43m)\u001b[49m\n",
      "File \u001b[0;32m~/venv/eda_venv/lib/python3.10/site-packages/selenium/webdriver/remote/webdriver.py:347\u001b[0m, in \u001b[0;36mWebDriver.execute\u001b[0;34m(self, driver_command, params)\u001b[0m\n\u001b[1;32m    345\u001b[0m response \u001b[38;5;241m=\u001b[39m \u001b[38;5;28mself\u001b[39m\u001b[38;5;241m.\u001b[39mcommand_executor\u001b[38;5;241m.\u001b[39mexecute(driver_command, params)\n\u001b[1;32m    346\u001b[0m \u001b[38;5;28;01mif\u001b[39;00m response:\n\u001b[0;32m--> 347\u001b[0m     \u001b[38;5;28;43mself\u001b[39;49m\u001b[38;5;241;43m.\u001b[39;49m\u001b[43merror_handler\u001b[49m\u001b[38;5;241;43m.\u001b[39;49m\u001b[43mcheck_response\u001b[49m\u001b[43m(\u001b[49m\u001b[43mresponse\u001b[49m\u001b[43m)\u001b[49m\n\u001b[1;32m    348\u001b[0m     response[\u001b[38;5;124m\"\u001b[39m\u001b[38;5;124mvalue\u001b[39m\u001b[38;5;124m\"\u001b[39m] \u001b[38;5;241m=\u001b[39m \u001b[38;5;28mself\u001b[39m\u001b[38;5;241m.\u001b[39m_unwrap_value(response\u001b[38;5;241m.\u001b[39mget(\u001b[38;5;124m\"\u001b[39m\u001b[38;5;124mvalue\u001b[39m\u001b[38;5;124m\"\u001b[39m, \u001b[38;5;28;01mNone\u001b[39;00m))\n\u001b[1;32m    349\u001b[0m     \u001b[38;5;28;01mreturn\u001b[39;00m response\n",
      "File \u001b[0;32m~/venv/eda_venv/lib/python3.10/site-packages/selenium/webdriver/remote/errorhandler.py:229\u001b[0m, in \u001b[0;36mErrorHandler.check_response\u001b[0;34m(self, response)\u001b[0m\n\u001b[1;32m    227\u001b[0m         alert_text \u001b[38;5;241m=\u001b[39m value[\u001b[38;5;124m\"\u001b[39m\u001b[38;5;124malert\u001b[39m\u001b[38;5;124m\"\u001b[39m]\u001b[38;5;241m.\u001b[39mget(\u001b[38;5;124m\"\u001b[39m\u001b[38;5;124mtext\u001b[39m\u001b[38;5;124m\"\u001b[39m)\n\u001b[1;32m    228\u001b[0m     \u001b[38;5;28;01mraise\u001b[39;00m exception_class(message, screen, stacktrace, alert_text)  \u001b[38;5;66;03m# type: ignore[call-arg]  # mypy is not smart enough here\u001b[39;00m\n\u001b[0;32m--> 229\u001b[0m \u001b[38;5;28;01mraise\u001b[39;00m exception_class(message, screen, stacktrace)\n",
      "\u001b[0;31mWebDriverException\u001b[0m: Message: disconnected: not connected to DevTools\n  (failed to check if window was closed: disconnected: not connected to DevTools)\n  (Session info: chrome=122.0.6261.94)\nStacktrace:\n#0 0x563ef8e54793 <unknown>\n#1 0x563ef8b481c6 <unknown>\n#2 0x563ef8b2cfcf <unknown>\n#3 0x563ef8b2e3ff <unknown>\n#4 0x563ef8b48720 <unknown>\n#5 0x563ef8b1e8ce <unknown>\n#6 0x563ef8bc4525 <unknown>\n#7 0x563ef8bb5398 <unknown>\n#8 0x563ef8b862d3 <unknown>\n#9 0x563ef8b86c9e <unknown>\n#10 0x563ef8e188cb <unknown>\n#11 0x563ef8e1c745 <unknown>\n#12 0x563ef8e052e1 <unknown>\n#13 0x563ef8e1d2d2 <unknown>\n#14 0x563ef8de917f <unknown>\n#15 0x563ef8e42dc8 <unknown>\n#16 0x563ef8e42fc3 <unknown>\n#17 0x563ef8e53944 <unknown>\n#18 0x7f9998694ac3 <unknown>\n"
     ]
    }
   ],
   "source": [
    "driver.close()"
   ]
  },
  {
   "cell_type": "code",
   "execution_count": null,
   "metadata": {},
   "outputs": [],
   "source": []
  }
 ],
 "metadata": {
  "kernelspec": {
   "display_name": "eda_venv",
   "language": "python",
   "name": "python3"
  },
  "language_info": {
   "codemirror_mode": {
    "name": "ipython",
    "version": 3
   },
   "file_extension": ".py",
   "mimetype": "text/x-python",
   "name": "python",
   "nbconvert_exporter": "python",
   "pygments_lexer": "ipython3",
   "version": "3.10.12"
  }
 },
 "nbformat": 4,
 "nbformat_minor": 2
}
