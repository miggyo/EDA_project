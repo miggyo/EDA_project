{
 "cells": [
  {
   "cell_type": "code",
   "execution_count": null,
   "id": "b33ecdf3-94f4-4a1a-b131-9e22424975b0",
   "metadata": {},
   "outputs": [],
   "source": [
    "02/27\n",
    "udf-8 : encoding, 공용 데이타 포맷 \n",
    "\n",
    "<selenium>\n",
    "크롤링 용이라기보단 테스트 용이었음\n",
    "\n",
    "<a>\n",
    "    <b>\n",
    "        <c>\n",
    "\n",
    "full xpath -> root부터 절대 경로\n",
    "xpath -> 잠깐 확인해야 될 때는 사용 가능 상대경로 id 나 구분되는 elements로 부터 찾음\n",
    "\n",
    "\n",
    "\n"
   ]
  },
  {
   "cell_type": "code",
   "execution_count": null,
   "id": "227ae007",
   "metadata": {},
   "outputs": [],
   "source": [
    "sudo apt install --help #설치명령어 모를 때 설명이 나옴\n",
    "pip #패키지 파이썬\n",
    "사용자 환경변수에서 실행파일 경로를 설정해주기 때문에 프로그램의 실행 가능 유무가 결정\n",
    "확장자 : incoding / decoding하는 규칙을 정해놓은 것 \n",
    "import : 모듈에 있는 모든 함수를 모두 읽어 메모리에 올려놓음\n",
    "\n",
    "함수냐! class냐!!\n",
    "ham.__dir__()\n",
    "__ :던더!더블언더바!\n"
   ]
  },
  {
   "cell_type": "code",
   "execution_count": null,
   "id": "8d036e0a",
   "metadata": {},
   "outputs": [],
   "source": [
    "1.서울시 들어감\n",
    "for 시군구\n",
    "    for 휘발유 종류\n",
    "        for 주유소정보 긁어오기\n",
    "\n",
    "저장"
   ]
  }
 ],
 "metadata": {
  "kernelspec": {
   "display_name": "Python 3 (ipykernel)",
   "language": "python",
   "name": "python3"
  },
  "language_info": {
   "codemirror_mode": {
    "name": "ipython",
    "version": 3
   },
   "file_extension": ".py",
   "mimetype": "text/x-python",
   "name": "python",
   "nbconvert_exporter": "python",
   "pygments_lexer": "ipython3",
   "version": "3.10.12"
  }
 },
 "nbformat": 4,
 "nbformat_minor": 5
}
