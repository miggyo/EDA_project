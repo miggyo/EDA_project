{
 "cells": [
  {
   "cell_type": "code",
   "execution_count": 99,
   "id": "e07d44f3-9440-4338-b9b7-be05f891824b",
   "metadata": {},
   "outputs": [],
   "source": [
    "import numpy as np\n",
    "import sympy as sym"
   ]
  },
  {
   "cell_type": "code",
   "execution_count": 4,
   "id": "fdedacf0-488b-4d33-9422-0dc5d511bf96",
   "metadata": {},
   "outputs": [
    {
     "data": {
      "text/plain": [
       "array([[1., 1.],\n",
       "       [1., 1.],\n",
       "       [1., 1.]])"
      ]
     },
     "execution_count": 4,
     "metadata": {},
     "output_type": "execute_result"
    }
   ],
   "source": [
    "np.ones((3,2))"
   ]
  },
  {
   "cell_type": "code",
   "execution_count": 9,
   "id": "678dc6d8-5617-4da1-aa0f-946d557177ab",
   "metadata": {},
   "outputs": [
    {
     "data": {
      "text/plain": [
       "array([[0., 0.],\n",
       "       [0., 0.],\n",
       "       [0., 0.]])"
      ]
     },
     "execution_count": 9,
     "metadata": {},
     "output_type": "execute_result"
    }
   ],
   "source": [
    "np.zeros((3,2))"
   ]
  },
  {
   "cell_type": "code",
   "execution_count": 10,
   "id": "8d5d8bb7-4921-4280-9092-075f4d881073",
   "metadata": {},
   "outputs": [
    {
     "data": {
      "text/plain": [
       "array([[1., 0.],\n",
       "       [0., 1.]])"
      ]
     },
     "execution_count": 10,
     "metadata": {},
     "output_type": "execute_result"
    }
   ],
   "source": [
    "np.eye(2)"
   ]
  },
  {
   "cell_type": "code",
   "execution_count": 11,
   "id": "df26ed6c-e66c-4276-8e9a-242625f55c69",
   "metadata": {},
   "outputs": [],
   "source": [
    "datal=np.array([ [1,2,3],[4,5,6],[7,8,9]])"
   ]
  },
  {
   "cell_type": "code",
   "execution_count": 12,
   "id": "7bd3cc4b-0074-4bea-99fa-6e00a36a1fba",
   "metadata": {},
   "outputs": [
    {
     "data": {
      "text/plain": [
       "array([[1, 2, 3],\n",
       "       [4, 5, 6],\n",
       "       [7, 8, 9]])"
      ]
     },
     "execution_count": 12,
     "metadata": {},
     "output_type": "execute_result"
    }
   ],
   "source": [
    "datal"
   ]
  },
  {
   "cell_type": "code",
   "execution_count": 14,
   "id": "29e4db0b-bc1d-4f4f-8300-d062b932ad01",
   "metadata": {},
   "outputs": [
    {
     "data": {
      "text/plain": [
       "(3, 3)"
      ]
     },
     "execution_count": 14,
     "metadata": {},
     "output_type": "execute_result"
    }
   ],
   "source": [
    "datal.shape"
   ]
  },
  {
   "cell_type": "code",
   "execution_count": 15,
   "id": "b204db67-49e9-4bd1-a8e8-84b89ab62fe6",
   "metadata": {},
   "outputs": [
    {
     "data": {
      "text/plain": [
       "dtype('int64')"
      ]
     },
     "execution_count": 15,
     "metadata": {},
     "output_type": "execute_result"
    }
   ],
   "source": [
    "datal.dtype"
   ]
  },
  {
   "cell_type": "code",
   "execution_count": 16,
   "id": "100c313f-4ca6-43ab-8c20-e074aa4148bc",
   "metadata": {},
   "outputs": [],
   "source": [
    "datal=datal.astype(np.float64)"
   ]
  },
  {
   "cell_type": "code",
   "execution_count": 17,
   "id": "ddf79e9d-044d-4107-af33-3ecb974ce513",
   "metadata": {},
   "outputs": [
    {
     "data": {
      "text/plain": [
       "array([[1., 2., 3.],\n",
       "       [4., 5., 6.],\n",
       "       [7., 8., 9.]])"
      ]
     },
     "execution_count": 17,
     "metadata": {},
     "output_type": "execute_result"
    }
   ],
   "source": [
    "datal"
   ]
  },
  {
   "cell_type": "code",
   "execution_count": 18,
   "id": "51791d42-daf1-4933-96d8-6668b9b27078",
   "metadata": {},
   "outputs": [
    {
     "data": {
      "text/plain": [
       "array([[ 1.,  4.,  9.],\n",
       "       [16., 25., 36.],\n",
       "       [49., 64., 81.]])"
      ]
     },
     "execution_count": 18,
     "metadata": {},
     "output_type": "execute_result"
    }
   ],
   "source": [
    "datal*datal"
   ]
  },
  {
   "cell_type": "code",
   "execution_count": 20,
   "id": "521ccd8f-84a4-4c6b-bbab-684c7c94af1b",
   "metadata": {},
   "outputs": [
    {
     "data": {
      "text/plain": [
       "array([[ 4.,  5.,  6.],\n",
       "       [ 7.,  8.,  9.],\n",
       "       [10., 11., 12.]])"
      ]
     },
     "execution_count": 20,
     "metadata": {},
     "output_type": "execute_result"
    }
   ],
   "source": [
    "datal+3"
   ]
  },
  {
   "cell_type": "code",
   "execution_count": 24,
   "id": "9dc2c455-55be-4834-9747-5260b7dbf67e",
   "metadata": {},
   "outputs": [
    {
     "data": {
      "text/plain": [
       "array([0, 1, 2, 3, 4, 5, 6, 7, 8, 9])"
      ]
     },
     "execution_count": 24,
     "metadata": {},
     "output_type": "execute_result"
    }
   ],
   "source": [
    "data2=np.arange(10)\n",
    "data2"
   ]
  },
  {
   "cell_type": "code",
   "execution_count": 22,
   "id": "9b964de5-4733-4619-b41e-5fb7220637cf",
   "metadata": {},
   "outputs": [
    {
     "data": {
      "text/plain": [
       "array([1, 2, 3])"
      ]
     },
     "execution_count": 22,
     "metadata": {},
     "output_type": "execute_result"
    }
   ],
   "source": [
    "data2[1:4]"
   ]
  },
  {
   "cell_type": "code",
   "execution_count": 25,
   "id": "38599ab4-00d2-4db6-ba46-1a881021e072",
   "metadata": {},
   "outputs": [],
   "source": [
    "data2[1:4]=10"
   ]
  },
  {
   "cell_type": "code",
   "execution_count": 26,
   "id": "608290c0-b7f8-4636-bdaa-7245e64125d4",
   "metadata": {},
   "outputs": [
    {
     "data": {
      "text/plain": [
       "array([7., 8., 9.])"
      ]
     },
     "execution_count": 26,
     "metadata": {},
     "output_type": "execute_result"
    }
   ],
   "source": [
    "datal[2]"
   ]
  },
  {
   "cell_type": "code",
   "execution_count": 27,
   "id": "fcc8d78b-9af6-4344-bff7-230b495f4feb",
   "metadata": {},
   "outputs": [
    {
     "data": {
      "text/plain": [
       "array([[2., 3.],\n",
       "       [5., 6.]])"
      ]
     },
     "execution_count": 27,
     "metadata": {},
     "output_type": "execute_result"
    }
   ],
   "source": [
    "datal[:2,1:]"
   ]
  },
  {
   "cell_type": "code",
   "execution_count": 86,
   "id": "c989abb9-e7a9-4fbb-b4d6-ca6667325005",
   "metadata": {},
   "outputs": [
    {
     "data": {
      "text/plain": [
       "array(['Bob', 'Joe', 'Will', 'Bob', 'Will'], dtype='<U4')"
      ]
     },
     "execution_count": 86,
     "metadata": {},
     "output_type": "execute_result"
    }
   ],
   "source": [
    "names=np.array(['Bob','Joe','Will','Bob','Will'])\n",
    "names"
   ]
  },
  {
   "cell_type": "code",
   "execution_count": 30,
   "id": "13502c3e-18cf-47e0-b105-243eab707cfa",
   "metadata": {},
   "outputs": [
    {
     "data": {
      "text/plain": [
       "array([[-1.61233606,  0.50708996, -0.80950413, -0.17926086],\n",
       "       [ 0.62256999, -0.86937475,  0.72827806,  0.86992475],\n",
       "       [ 0.87824166,  0.14997062, -0.25040571,  0.77416221],\n",
       "       [ 0.39916186, -0.30394091, -2.53100049,  1.4113018 ],\n",
       "       [-3.15924128, -2.68480142,  0.59727533,  0.66360177]])"
      ]
     },
     "execution_count": 30,
     "metadata": {},
     "output_type": "execute_result"
    }
   ],
   "source": [
    "data_names=np.random.randn(5,4)\n",
    "data_names"
   ]
  },
  {
   "cell_type": "code",
   "execution_count": 31,
   "id": "3f4b814e-eb53-487c-ae42-4bf257c5b244",
   "metadata": {},
   "outputs": [
    {
     "data": {
      "text/plain": [
       "array([ True, False, False,  True, False])"
      ]
     },
     "execution_count": 31,
     "metadata": {},
     "output_type": "execute_result"
    }
   ],
   "source": [
    "names=='Bob'"
   ]
  },
  {
   "cell_type": "code",
   "execution_count": 32,
   "id": "2cebbe35-4299-405c-a782-203299cd2b33",
   "metadata": {},
   "outputs": [
    {
     "data": {
      "text/plain": [
       "array([[-1.61233606,  0.50708996, -0.80950413, -0.17926086],\n",
       "       [ 0.39916186, -0.30394091, -2.53100049,  1.4113018 ]])"
      ]
     },
     "execution_count": 32,
     "metadata": {},
     "output_type": "execute_result"
    }
   ],
   "source": [
    "data_names[names=='Bob']"
   ]
  },
  {
   "cell_type": "code",
   "execution_count": 33,
   "id": "02875533-3a20-4f42-9fad-450645dbb311",
   "metadata": {},
   "outputs": [
    {
     "data": {
      "text/plain": [
       "array([[ 0.62256999, -0.86937475,  0.72827806,  0.86992475],\n",
       "       [ 0.87824166,  0.14997062, -0.25040571,  0.77416221],\n",
       "       [-3.15924128, -2.68480142,  0.59727533,  0.66360177]])"
      ]
     },
     "execution_count": 33,
     "metadata": {},
     "output_type": "execute_result"
    }
   ],
   "source": [
    "data_names[~(names=='Bob')]"
   ]
  },
  {
   "cell_type": "code",
   "execution_count": 34,
   "id": "e511b74d-e70a-4860-8090-b1c4405bf214",
   "metadata": {},
   "outputs": [
    {
     "data": {
      "text/plain": [
       "array([ True, False,  True,  True,  True])"
      ]
     },
     "execution_count": 34,
     "metadata": {},
     "output_type": "execute_result"
    }
   ],
   "source": [
    "mask=(names == 'Bob') | (names == 'Will') \n",
    "mask"
   ]
  },
  {
   "cell_type": "code",
   "execution_count": 35,
   "id": "26cee57f-b5e7-496c-8446-2a7d91706ccd",
   "metadata": {},
   "outputs": [
    {
     "data": {
      "text/plain": [
       "array([[-1.61233606,  0.50708996, -0.80950413, -0.17926086],\n",
       "       [ 0.87824166,  0.14997062, -0.25040571,  0.77416221],\n",
       "       [ 0.39916186, -0.30394091, -2.53100049,  1.4113018 ],\n",
       "       [-3.15924128, -2.68480142,  0.59727533,  0.66360177]])"
      ]
     },
     "execution_count": 35,
     "metadata": {},
     "output_type": "execute_result"
    }
   ],
   "source": [
    "data_names[mask]"
   ]
  },
  {
   "cell_type": "code",
   "execution_count": 36,
   "id": "f97a7698-e676-4fc2-b07f-ec6487d8c78e",
   "metadata": {},
   "outputs": [
    {
     "data": {
      "text/plain": [
       "array([[ True, False,  True,  True],\n",
       "       [False,  True, False, False],\n",
       "       [False, False,  True, False],\n",
       "       [False,  True,  True, False],\n",
       "       [ True,  True, False, False]])"
      ]
     },
     "execution_count": 36,
     "metadata": {},
     "output_type": "execute_result"
    }
   ],
   "source": [
    "data_names<0"
   ]
  },
  {
   "cell_type": "code",
   "execution_count": 38,
   "id": "3c42e3d4-8b05-48fd-9ac2-10d60124d74e",
   "metadata": {},
   "outputs": [
    {
     "data": {
      "text/plain": [
       "array([[0.        , 0.50708996, 0.        , 0.        ],\n",
       "       [0.62256999, 0.        , 0.72827806, 0.86992475],\n",
       "       [0.87824166, 0.14997062, 0.        , 0.77416221],\n",
       "       [0.39916186, 0.        , 0.        , 1.4113018 ],\n",
       "       [0.        , 0.        , 0.59727533, 0.66360177]])"
      ]
     },
     "execution_count": 38,
     "metadata": {},
     "output_type": "execute_result"
    }
   ],
   "source": [
    "data_names[data_names<0]=0\n",
    "data_names"
   ]
  },
  {
   "cell_type": "code",
   "execution_count": 39,
   "id": "dd36800d-26f8-4650-a423-23199e21cf02",
   "metadata": {},
   "outputs": [
    {
     "data": {
      "text/plain": [
       "array([ 0,  1,  2,  3,  4,  5,  6,  7,  8,  9, 10, 11, 12, 13, 14])"
      ]
     },
     "execution_count": 39,
     "metadata": {},
     "output_type": "execute_result"
    }
   ],
   "source": [
    "data_mat = np.arange(15)\n",
    "data_mat"
   ]
  },
  {
   "cell_type": "code",
   "execution_count": 40,
   "id": "4e23867d-36c0-4754-a429-01bd67bbc481",
   "metadata": {},
   "outputs": [
    {
     "data": {
      "text/plain": [
       "(15,)"
      ]
     },
     "execution_count": 40,
     "metadata": {},
     "output_type": "execute_result"
    }
   ],
   "source": [
    "data_mat.shape"
   ]
  },
  {
   "cell_type": "code",
   "execution_count": 41,
   "id": "524d1290-024d-46ce-81f0-8379645c47d8",
   "metadata": {},
   "outputs": [],
   "source": [
    "data_mat=data_mat.reshape((3,5))"
   ]
  },
  {
   "cell_type": "code",
   "execution_count": 42,
   "id": "1b11cb0a-bc2f-4604-87df-24818ee9ec86",
   "metadata": {},
   "outputs": [
    {
     "data": {
      "text/plain": [
       "array([[ 0,  1,  2,  3,  4],\n",
       "       [ 5,  6,  7,  8,  9],\n",
       "       [10, 11, 12, 13, 14]])"
      ]
     },
     "execution_count": 42,
     "metadata": {},
     "output_type": "execute_result"
    }
   ],
   "source": [
    "data_mat"
   ]
  },
  {
   "cell_type": "code",
   "execution_count": 43,
   "id": "eca1538e-194f-4101-9c4f-e00af3f1d5f2",
   "metadata": {},
   "outputs": [
    {
     "data": {
      "text/plain": [
       "(3, 5)"
      ]
     },
     "execution_count": 43,
     "metadata": {},
     "output_type": "execute_result"
    }
   ],
   "source": [
    "data_mat.shape"
   ]
  },
  {
   "cell_type": "code",
   "execution_count": 44,
   "id": "12a771b1-76f5-4eeb-867c-99e61a6abbda",
   "metadata": {},
   "outputs": [
    {
     "data": {
      "text/plain": [
       "array([[ 0,  5, 10],\n",
       "       [ 1,  6, 11],\n",
       "       [ 2,  7, 12],\n",
       "       [ 3,  8, 13],\n",
       "       [ 4,  9, 14]])"
      ]
     },
     "execution_count": 44,
     "metadata": {},
     "output_type": "execute_result"
    }
   ],
   "source": [
    "data_mat.T"
   ]
  },
  {
   "cell_type": "code",
   "execution_count": 45,
   "id": "e714ac8b-cb87-44a6-b290-f212b6e313f3",
   "metadata": {},
   "outputs": [
    {
     "data": {
      "text/plain": [
       "array([[ 30,  80, 130],\n",
       "       [ 80, 255, 430],\n",
       "       [130, 430, 730]])"
      ]
     },
     "execution_count": 45,
     "metadata": {},
     "output_type": "execute_result"
    }
   ],
   "source": [
    "np.dot(data_mat,data_mat.T)"
   ]
  },
  {
   "cell_type": "code",
   "execution_count": 57,
   "id": "cfb46095-a2f0-47f6-ae82-e4d49c2f042a",
   "metadata": {},
   "outputs": [],
   "source": [
    "import matplotlib.pyplot as plt\n",
    "%matplotlib inline"
   ]
  },
  {
   "cell_type": "code",
   "execution_count": 61,
   "id": "b9a2bfbc-9d45-4f1b-8253-5b6dd29fdcac",
   "metadata": {},
   "outputs": [],
   "source": [
    "points = np.arange(-5,5,0.01)"
   ]
  },
  {
   "cell_type": "code",
   "execution_count": 62,
   "id": "fe652d06-f5b9-4eaa-ac0c-b9a6c79d4e87",
   "metadata": {},
   "outputs": [],
   "source": [
    "xs,ys=np.meshgrid(points,points)"
   ]
  },
  {
   "cell_type": "code",
   "execution_count": 63,
   "id": "3c67a76f-60f2-4e7a-8bff-290e416081fb",
   "metadata": {},
   "outputs": [
    {
     "data": {
      "text/plain": [
       "((1000, 1000), (1000, 1000))"
      ]
     },
     "execution_count": 63,
     "metadata": {},
     "output_type": "execute_result"
    }
   ],
   "source": [
    "xs.shape, ys.shape"
   ]
  },
  {
   "cell_type": "code",
   "execution_count": 64,
   "id": "90c9ba57-e9bd-49ec-991e-767f27d1a30a",
   "metadata": {},
   "outputs": [
    {
     "data": {
      "text/plain": [
       "array([[7.07106781, 7.06400028, 7.05693985, ..., 7.04988652, 7.05693985,\n",
       "        7.06400028],\n",
       "       [7.06400028, 7.05692568, 7.04985815, ..., 7.04279774, 7.04985815,\n",
       "        7.05692568],\n",
       "       [7.05693985, 7.04985815, 7.04278354, ..., 7.03571603, 7.04278354,\n",
       "        7.04985815],\n",
       "       ...,\n",
       "       [7.04988652, 7.04279774, 7.03571603, ..., 7.0286414 , 7.03571603,\n",
       "        7.04279774],\n",
       "       [7.05693985, 7.04985815, 7.04278354, ..., 7.03571603, 7.04278354,\n",
       "        7.04985815],\n",
       "       [7.06400028, 7.05692568, 7.04985815, ..., 7.04279774, 7.04985815,\n",
       "        7.05692568]])"
      ]
     },
     "execution_count": 64,
     "metadata": {},
     "output_type": "execute_result"
    }
   ],
   "source": [
    "z=np.sqrt(xs**2+ys**2)\n",
    "z"
   ]
  },
  {
   "cell_type": "code",
   "execution_count": 65,
   "id": "e9357654-7bef-4829-907e-94966c764a9b",
   "metadata": {},
   "outputs": [
    {
     "data": {
      "text/plain": [
       "<matplotlib.image.AxesImage at 0x7f9a1c3db640>"
      ]
     },
     "execution_count": 65,
     "metadata": {},
     "output_type": "execute_result"
    },
    {
     "data": {
      "image/png": "[encoded data removed]",
      "text/plain": [
       "<Figure size 640x480 with 1 Axes>"
      ]
     },
     "metadata": {},
     "output_type": "display_data"
    }
   ],
   "source": [
    "plt.imshow(z)"
   ]
  },
  {
   "cell_type": "code",
   "execution_count": 68,
   "id": "3e3293fe-17e2-408b-8101-869299572e1a",
   "metadata": {},
   "outputs": [],
   "source": [
    "x=np.array([1.1, 1.2,1.3,1.4,1.5])\n",
    "y=np.array([2.1,2.2,2.3,2.4,2.5])\n",
    "condi=np.array([True,False,True,True,False])"
   ]
  },
  {
   "cell_type": "code",
   "execution_count": 69,
   "id": "1cf5bc19-a4db-4acb-86ba-81905cb0daaf",
   "metadata": {},
   "outputs": [
    {
     "data": {
      "text/plain": [
       "array([1.1, 2.2, 1.3, 1.4, 2.5])"
      ]
     },
     "execution_count": 69,
     "metadata": {},
     "output_type": "execute_result"
    }
   ],
   "source": [
    "np.where(condi,x,y)"
   ]
  },
  {
   "cell_type": "code",
   "execution_count": 74,
   "id": "3a29c044-ddcc-4fca-b1c3-2ceea237f090",
   "metadata": {},
   "outputs": [
    {
     "data": {
      "text/plain": [
       "array([[ 0.98493602,  0.36635749,  1.45079386, -0.02331677],\n",
       "       [-1.67768343, -0.63723885, -1.33441054,  0.36930007],\n",
       "       [-0.21056685, -0.29350957, -1.93436527, -1.19184932],\n",
       "       [ 0.5113181 ,  0.6218674 , -0.14573458,  1.08192106]])"
      ]
     },
     "execution_count": 74,
     "metadata": {},
     "output_type": "execute_result"
    }
   ],
   "source": [
    "test=np.random.randn(4,4)\n",
    "test"
   ]
  },
  {
   "cell_type": "code",
   "execution_count": 75,
   "id": "8950c36b-1be6-44b9-8be8-185733c19424",
   "metadata": {},
   "outputs": [
    {
     "data": {
      "text/plain": [
       "array([[ 2,  2,  2, -1],\n",
       "       [-1, -1, -1,  2],\n",
       "       [-1, -1, -1, -1],\n",
       "       [ 2,  2, -1,  2]])"
      ]
     },
     "execution_count": 75,
     "metadata": {},
     "output_type": "execute_result"
    }
   ],
   "source": [
    "np.where(test>0,2,-1)"
   ]
  },
  {
   "cell_type": "code",
   "execution_count": 84,
   "id": "41929620-5458-4705-9802-9d3afd77cdc9",
   "metadata": {},
   "outputs": [
    {
     "data": {
      "text/plain": [
       "array([[ 0.98493602,  0.36635749,  1.45079386, -0.02331677],\n",
       "       [-1.67768343, -0.63723885, -1.33441054,  0.36930007],\n",
       "       [-0.21056685, -0.29350957, -1.93436527, -1.19184932],\n",
       "       [ 0.5113181 ,  0.6218674 , -0.14573458,  1.08192106]])"
      ]
     },
     "execution_count": 84,
     "metadata": {},
     "output_type": "execute_result"
    }
   ],
   "source": [
    "test"
   ]
  },
  {
   "cell_type": "code",
   "execution_count": 76,
   "id": "3ac208c8-d19b-4635-bb73-5e9600d8bdd4",
   "metadata": {},
   "outputs": [
    {
     "data": {
      "text/plain": [
       "array([[ 2.        ,  2.        ,  2.        , -0.02331677],\n",
       "       [-1.67768343, -0.63723885, -1.33441054,  2.        ],\n",
       "       [-0.21056685, -0.29350957, -1.93436527, -1.19184932],\n",
       "       [ 2.        ,  2.        , -0.14573458,  2.        ]])"
      ]
     },
     "execution_count": 76,
     "metadata": {},
     "output_type": "execute_result"
    }
   ],
   "source": [
    "np.where(test>0,2,test)"
   ]
  },
  {
   "cell_type": "code",
   "execution_count": 77,
   "id": "d537b91e-f396-41f6-92eb-4a7093d3da3d",
   "metadata": {},
   "outputs": [
    {
     "data": {
      "text/plain": [
       "-0.1288863253081205"
      ]
     },
     "execution_count": 77,
     "metadata": {},
     "output_type": "execute_result"
    }
   ],
   "source": [
    "np.mean(test)"
   ]
  },
  {
   "cell_type": "code",
   "execution_count": 78,
   "id": "11007a04-5b2d-4583-abb2-3d7ead9d277d",
   "metadata": {},
   "outputs": [
    {
     "data": {
      "text/plain": [
       "-0.1288863253081205"
      ]
     },
     "execution_count": 78,
     "metadata": {},
     "output_type": "execute_result"
    }
   ],
   "source": [
    "test.mean()"
   ]
  },
  {
   "cell_type": "code",
   "execution_count": 79,
   "id": "69f4976c-1d95-4dd5-9de5-0153d8318f5b",
   "metadata": {},
   "outputs": [
    {
     "data": {
      "text/plain": [
       "-2.062181204929928"
      ]
     },
     "execution_count": 79,
     "metadata": {},
     "output_type": "execute_result"
    }
   ],
   "source": [
    "test.sum()"
   ]
  },
  {
   "cell_type": "code",
   "execution_count": 80,
   "id": "b673e3b3-8307-413f-af97-71d4d3533924",
   "metadata": {},
   "outputs": [
    {
     "data": {
      "text/plain": [
       "array([-0.09799904,  0.01436912, -0.49092913,  0.05901376])"
      ]
     },
     "execution_count": 80,
     "metadata": {},
     "output_type": "execute_result"
    }
   ],
   "source": [
    "test.mean(axis=0)"
   ]
  },
  {
   "cell_type": "code",
   "execution_count": 81,
   "id": "5b477610-0a94-4d97-b4f0-234f4913edbe",
   "metadata": {},
   "outputs": [
    {
     "data": {
      "text/plain": [
       "array([ 0.69469265, -0.82000819, -0.90757275,  0.51734299])"
      ]
     },
     "execution_count": 81,
     "metadata": {},
     "output_type": "execute_result"
    }
   ],
   "source": [
    "test.mean(axis=1)"
   ]
  },
  {
   "cell_type": "code",
   "execution_count": 82,
   "id": "5d7a0804-a43b-47a9-aeee-5782098a4261",
   "metadata": {},
   "outputs": [
    {
     "data": {
      "text/plain": [
       "0.9751385307806906"
      ]
     },
     "execution_count": 82,
     "metadata": {},
     "output_type": "execute_result"
    }
   ],
   "source": [
    "test.std()"
   ]
  },
  {
   "cell_type": "code",
   "execution_count": 83,
   "id": "a20bfbd2-e9f5-4f34-9e56-d1f5459adb78",
   "metadata": {},
   "outputs": [
    {
     "data": {
      "text/plain": [
       "0.9508951542131239"
      ]
     },
     "execution_count": 83,
     "metadata": {},
     "output_type": "execute_result"
    }
   ],
   "source": [
    "test.var()"
   ]
  },
  {
   "cell_type": "code",
   "execution_count": 85,
   "id": "3905d0bc-ae5d-4457-a60f-2c104256205d",
   "metadata": {},
   "outputs": [
    {
     "data": {
      "text/plain": [
       "[10, 2]"
      ]
     },
     "execution_count": 85,
     "metadata": {},
     "output_type": "execute_result"
    }
   ],
   "source": [
    "[test.argmin(),test.argmax()]"
   ]
  },
  {
   "cell_type": "code",
   "execution_count": 87,
   "id": "3c8c4fc5-a080-4084-b885-108668ea67cb",
   "metadata": {},
   "outputs": [
    {
     "data": {
      "text/plain": [
       "array(['Bob', 'Joe', 'Will', 'Bob', 'Will'], dtype='<U4')"
      ]
     },
     "execution_count": 87,
     "metadata": {},
     "output_type": "execute_result"
    }
   ],
   "source": [
    "names"
   ]
  },
  {
   "cell_type": "code",
   "execution_count": 88,
   "id": "0fbee3db-52e9-469d-ae59-21a0cc0f6e80",
   "metadata": {},
   "outputs": [
    {
     "data": {
      "text/plain": [
       "array(['Bob', 'Joe', 'Will'], dtype='<U4')"
      ]
     },
     "execution_count": 88,
     "metadata": {},
     "output_type": "execute_result"
    }
   ],
   "source": [
    "np.unique(names)"
   ]
  },
  {
   "cell_type": "code",
   "execution_count": 89,
   "id": "221c0c89-0474-401c-b3df-4091fd3c4fae",
   "metadata": {},
   "outputs": [],
   "source": [
    "A=np.array([1,2,3,6])\n",
    "B=np.array([1,6,8,9])"
   ]
  },
  {
   "cell_type": "code",
   "execution_count": 90,
   "id": "44855694-b053-46e2-b990-1c96c79931ae",
   "metadata": {},
   "outputs": [
    {
     "data": {
      "text/plain": [
       "array([ True, False, False,  True])"
      ]
     },
     "execution_count": 90,
     "metadata": {},
     "output_type": "execute_result"
    }
   ],
   "source": [
    "np.in1d(A,B)"
   ]
  },
  {
   "cell_type": "code",
   "execution_count": 91,
   "id": "599b1baf-f163-4b21-9a0a-25412662543d",
   "metadata": {},
   "outputs": [
    {
     "data": {
      "text/plain": [
       "array([1, 6])"
      ]
     },
     "execution_count": 91,
     "metadata": {},
     "output_type": "execute_result"
    }
   ],
   "source": [
    "A[np.in1d(A,B)]"
   ]
  },
  {
   "cell_type": "code",
   "execution_count": 92,
   "id": "0d363213-517b-47ca-a98e-c5450804cb02",
   "metadata": {},
   "outputs": [
    {
     "data": {
      "text/plain": [
       "array([1, 2, 3, 6, 8, 9])"
      ]
     },
     "execution_count": 92,
     "metadata": {},
     "output_type": "execute_result"
    }
   ],
   "source": [
    "np.union1d(A,B)"
   ]
  },
  {
   "cell_type": "code",
   "execution_count": 93,
   "id": "b9f98719-097b-49da-a25f-c72f155fcff7",
   "metadata": {},
   "outputs": [
    {
     "data": {
      "text/plain": [
       "array([1, 6])"
      ]
     },
     "execution_count": 93,
     "metadata": {},
     "output_type": "execute_result"
    }
   ],
   "source": [
    "np.intersect1d(A,B)"
   ]
  },
  {
   "cell_type": "code",
   "execution_count": 94,
   "id": "bbc3be02-f355-4ad3-bbb6-cb70d881335d",
   "metadata": {},
   "outputs": [
    {
     "data": {
      "text/plain": [
       "array([2, 3])"
      ]
     },
     "execution_count": 94,
     "metadata": {},
     "output_type": "execute_result"
    }
   ],
   "source": [
    "np.setdiff1d(A,B)"
   ]
  },
  {
   "cell_type": "code",
   "execution_count": 95,
   "id": "45b53198-cdf3-4a96-b66f-eba5fbc1ca4e",
   "metadata": {},
   "outputs": [
    {
     "data": {
      "text/plain": [
       "array([8, 9])"
      ]
     },
     "execution_count": 95,
     "metadata": {},
     "output_type": "execute_result"
    }
   ],
   "source": [
    "np.setdiff1d(B,A)"
   ]
  },
  {
   "cell_type": "code",
   "execution_count": 96,
   "id": "f400b9d5-5cf3-4294-8ea8-76e0c672ee73",
   "metadata": {},
   "outputs": [
    {
     "data": {
      "text/plain": [
       "array([2, 3, 8, 9])"
      ]
     },
     "execution_count": 96,
     "metadata": {},
     "output_type": "execute_result"
    }
   ],
   "source": [
    "np.setxor1d(A,B)"
   ]
  },
  {
   "cell_type": "code",
   "execution_count": 100,
   "id": "09b830de-55f6-494c-b63e-b9a2bebb2909",
   "metadata": {},
   "outputs": [],
   "source": [
    "a=sym.Rational(1,2)"
   ]
  },
  {
   "cell_type": "code",
   "execution_count": 101,
   "id": "7fcb14ea-e9ae-492f-93bc-96790adc1a8c",
   "metadata": {},
   "outputs": [
    {
     "data": {
      "text/latex": [
       "$\\displaystyle \\frac{1}{2}$"
      ],
      "text/plain": [
       "1/2"
      ]
     },
     "execution_count": 101,
     "metadata": {},
     "output_type": "execute_result"
    }
   ],
   "source": [
    "a"
   ]
  },
  {
   "cell_type": "code",
   "execution_count": 102,
   "id": "88962b1a-525d-4c72-8eff-cb47cc79229b",
   "metadata": {},
   "outputs": [
    {
     "data": {
      "text/latex": [
       "$\\displaystyle \\frac{1}{4}$"
      ],
      "text/plain": [
       "1/4"
      ]
     },
     "execution_count": 102,
     "metadata": {},
     "output_type": "execute_result"
    }
   ],
   "source": [
    "a/2"
   ]
  },
  {
   "cell_type": "code",
   "execution_count": 104,
   "id": "d763dd07-ad73-4a8c-b74d-3051b05cdc8b",
   "metadata": {},
   "outputs": [
    {
     "name": "stdout",
     "output_type": "stream",
     "text": [
      "True\n",
      "oo\n"
     ]
    }
   ],
   "source": [
    "print(sym.oo>9999)\n",
    "print(sym.oo)"
   ]
  },
  {
   "cell_type": "code",
   "execution_count": 106,
   "id": "1603ce78-d214-4b07-9517-6ef3b27289f3",
   "metadata": {},
   "outputs": [
    {
     "data": {
      "text/latex": [
       "$\\displaystyle x^{3} + 3 x^{2} y + 3 x y^{2} + y^{3}$"
      ],
      "text/plain": [
       "x**3 + 3*x**2*y + 3*x*y**2 + y**3"
      ]
     },
     "execution_count": 106,
     "metadata": {},
     "output_type": "execute_result"
    }
   ],
   "source": [
    "x=sym.Symbol('x')\n",
    "y=sym.Symbol('y')\n",
    "\n",
    "sym.expand((x+y)**3)"
   ]
  },
  {
   "cell_type": "code",
   "execution_count": 107,
   "id": "4b499f8e-4dea-4380-a468-bf426f73860d",
   "metadata": {},
   "outputs": [
    {
     "data": {
      "text/latex": [
       "$\\displaystyle x - y$"
      ],
      "text/plain": [
       "x - y"
      ]
     },
     "execution_count": 107,
     "metadata": {},
     "output_type": "execute_result"
    }
   ],
   "source": [
    "sym.simplify((x**2-y**2)/(x+y))"
   ]
  },
  {
   "cell_type": "code",
   "execution_count": 109,
   "id": "a673ab74-d163-4c83-aeb6-9079465c1f59",
   "metadata": {},
   "outputs": [
    {
     "data": {
      "text/latex": [
       "$\\displaystyle 2$"
      ],
      "text/plain": [
       "2"
      ]
     },
     "execution_count": 109,
     "metadata": {},
     "output_type": "execute_result"
    }
   ],
   "source": [
    "sym.limit((2*x+10)/(x+1),x,sym.oo)"
   ]
  },
  {
   "cell_type": "code",
   "execution_count": 110,
   "id": "e8b9dffd-8dbc-4388-a184-3964c08c75e4",
   "metadata": {},
   "outputs": [
    {
     "data": {
      "text/latex": [
       "$\\displaystyle 2 \\cos{\\left(2 x \\right)}$"
      ],
      "text/plain": [
       "2*cos(2*x)"
      ]
     },
     "execution_count": 110,
     "metadata": {},
     "output_type": "execute_result"
    }
   ],
   "source": [
    "sym.diff(sym.sin(2*x),x)"
   ]
  },
  {
   "cell_type": "code",
   "execution_count": 114,
   "id": "54ec7b2c-d28e-4ec6-8c46-5184a27c63ee",
   "metadata": {},
   "outputs": [
    {
     "data": {
      "text/latex": [
       "$\\displaystyle x^{3}$"
      ],
      "text/plain": [
       "x**3"
      ]
     },
     "execution_count": 114,
     "metadata": {},
     "output_type": "execute_result"
    }
   ],
   "source": [
    "sym.integrate(3*x**2,x)"
   ]
  },
  {
   "cell_type": "code",
   "execution_count": null,
   "id": "d4851205-6804-488b-8d80-9af8c054f0c0",
   "metadata": {},
   "outputs": [],
   "source": []
  }
 ],
 "metadata": {
  "kernelspec": {
   "display_name": "Python 3 (ipykernel)",
   "language": "python",
   "name": "python3"
  },
  "language_info": {
   "codemirror_mode": {
    "name": "ipython",
    "version": 3
   },
   "file_extension": ".py",
   "mimetype": "text/x-python",
   "name": "python",
   "nbconvert_exporter": "python",
   "pygments_lexer": "ipython3",
   "version": "3.10.12"
  }
 },
 "nbformat": 4,
 "nbformat_minor": 5
}
