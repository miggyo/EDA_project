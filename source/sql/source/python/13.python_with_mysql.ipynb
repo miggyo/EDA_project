{
 "cells": [
  {
   "cell_type": "code",
   "execution_count": 8,
   "metadata": {},
   "outputs": [],
   "source": [
    "import mysql.connector\n",
    "import pandas as pd\n",
    "import chardet"
   ]
  },
  {
   "cell_type": "code",
   "execution_count": 12,
   "metadata": {},
   "outputs": [
    {
     "data": {
      "text/html": [
       "<div>\n",
       "<style scoped>\n",
       "    .dataframe tbody tr th:only-of-type {\n",
       "        vertical-align: middle;\n",
       "    }\n",
       "\n",
       "    .dataframe tbody tr th {\n",
       "        vertical-align: top;\n",
       "    }\n",
       "\n",
       "    .dataframe thead th {\n",
       "        text-align: right;\n",
       "    }\n",
       "</style>\n",
       "<table border=\"1\" class=\"dataframe\">\n",
       "  <thead>\n",
       "    <tr style=\"text-align: right;\">\n",
       "      <th></th>\n",
       "      <th>기관명</th>\n",
       "      <th>소계</th>\n",
       "      <th>2013년도 이전</th>\n",
       "      <th>2014년</th>\n",
       "      <th>2015년</th>\n",
       "      <th>2016년</th>\n",
       "    </tr>\n",
       "  </thead>\n",
       "  <tbody>\n",
       "    <tr>\n",
       "      <th>0</th>\n",
       "      <td>강남구</td>\n",
       "      <td>3238</td>\n",
       "      <td>1292</td>\n",
       "      <td>430</td>\n",
       "      <td>584</td>\n",
       "      <td>932</td>\n",
       "    </tr>\n",
       "    <tr>\n",
       "      <th>1</th>\n",
       "      <td>강동구</td>\n",
       "      <td>1010</td>\n",
       "      <td>379</td>\n",
       "      <td>99</td>\n",
       "      <td>155</td>\n",
       "      <td>377</td>\n",
       "    </tr>\n",
       "    <tr>\n",
       "      <th>2</th>\n",
       "      <td>강북구</td>\n",
       "      <td>831</td>\n",
       "      <td>369</td>\n",
       "      <td>120</td>\n",
       "      <td>138</td>\n",
       "      <td>204</td>\n",
       "    </tr>\n",
       "    <tr>\n",
       "      <th>3</th>\n",
       "      <td>강서구</td>\n",
       "      <td>911</td>\n",
       "      <td>388</td>\n",
       "      <td>258</td>\n",
       "      <td>184</td>\n",
       "      <td>81</td>\n",
       "    </tr>\n",
       "    <tr>\n",
       "      <th>4</th>\n",
       "      <td>관악구</td>\n",
       "      <td>2109</td>\n",
       "      <td>846</td>\n",
       "      <td>260</td>\n",
       "      <td>390</td>\n",
       "      <td>613</td>\n",
       "    </tr>\n",
       "  </tbody>\n",
       "</table>\n",
       "</div>"
      ],
      "text/plain": [
       "   기관명    소계  2013년도 이전  2014년  2015년  2016년\n",
       "0  강남구  3238       1292    430    584    932\n",
       "1  강동구  1010        379     99    155    377\n",
       "2  강북구   831        369    120    138    204\n",
       "3  강서구   911        388    258    184     81\n",
       "4  관악구  2109        846    260    390    613"
      ]
     },
     "execution_count": 12,
     "metadata": {},
     "output_type": "execute_result"
    }
   ],
   "source": [
    "df = pd.read_csv('../../data/Seoul_CCTV.csv', encoding='UTF-8-SIG')\n",
    "df.head()"
   ]
  },
  {
   "cell_type": "code",
   "execution_count": 11,
   "metadata": {},
   "outputs": [
    {
     "name": "stdout",
     "output_type": "stream",
     "text": [
      "The encoding of the CSV file is: UTF-8-SIG\n"
     ]
    }
   ],
   "source": [
    "def detect_csv_encoding(file_path):\n",
    "    with open(file_path, 'rb') as f:\n",
    "        result = chardet.detect(f.read())\n",
    "        return result['encoding']\n",
    "\n",
    "\n",
    "csv_file_path = '../../data/Seoul_CCTV.csv'  # 파일 경로를 실제 파일의 경로로 바꿔주세요\n",
    "encoding = detect_csv_encoding(csv_file_path)\n",
    "\n",
    "print(f\"The encoding of the CSV file is: {encoding}\")"
   ]
  },
  {
   "cell_type": "code",
   "execution_count": 28,
   "metadata": {},
   "outputs": [],
   "source": [
    "remote = mysql.connector.connect(\n",
    "    host = 'database-1.cb2iuock61zt.ap-northeast-2.rds.amazonaws.com',\n",
    "    port = 3306,\n",
    "    user =  'root',\n",
    "    password = 'asdf1234',\n",
    "    database = 'amrdb'\n",
    ")"
   ]
  },
  {
   "cell_type": "code",
   "execution_count": 29,
   "metadata": {},
   "outputs": [],
   "source": [
    "cur = remote.cursor()\n",
    "cur.execute(\"CREATE TABLE cctv ( GU varchar(16), SUM int,BEFORE_2013 int ,`2014` int, `2015` int, `2016` int)\")#숫자로 시작하는 열 이름을 backtick (`)로 감싸야 합니다."
   ]
  },
  {
   "cell_type": "code",
   "execution_count": 38,
   "metadata": {},
   "outputs": [],
   "source": [
    "sql = \"\"\"insert into cctv values (%s,%s,%s,%s,%s,%s)\"\"\" #따옴표를 세 개씩 (\"\"\") 사용하는 것은 여러 줄에 걸친 문자열을 정의하는 Python의 표준 문법\n",
    "cursor = remote.cursor(buffered=True)\n"
   ]
  },
  {
   "cell_type": "code",
   "execution_count": 39,
   "metadata": {},
   "outputs": [
    {
     "name": "stdout",
     "output_type": "stream",
     "text": [
      "('강남구', 3238, 1292, 430, 584, 932)\n",
      "('강동구', 1010, 379, 99, 155, 377)\n",
      "('강북구', 831, 369, 120, 138, 204)\n",
      "('강서구', 911, 388, 258, 184, 81)\n",
      "('관악구', 2109, 846, 260, 390, 613)\n",
      "('광진구', 878, 573, 78, 53, 174)\n",
      "('구로구', 1884, 1142, 173, 246, 323)\n",
      "('금천구', 1348, 674, 51, 269, 354)\n",
      "('노원구', 1566, 542, 57, 451, 516)\n",
      "('도봉구', 825, 238, 159, 42, 386)\n",
      "('동대문구', 1870, 1070, 23, 198, 579)\n",
      "('동작구', 1302, 544, 341, 103, 314)\n",
      "('마포구', 980, 314, 118, 169, 379)\n",
      "('서대문구', 1254, 844, 50, 68, 292)\n",
      "('서초구', 2297, 1406, 157, 336, 398)\n",
      "('성동구', 1327, 730, 91, 241, 265)\n",
      "('성북구', 1651, 1009, 78, 360, 204)\n",
      "('송파구', 1081, 529, 21, 68, 463)\n",
      "('양천구', 2482, 1843, 142, 30, 467)\n",
      "('영등포구', 1277, 495, 214, 195, 373)\n",
      "('용산구', 2096, 1368, 218, 112, 398)\n",
      "('은평구', 2108, 1138, 224, 278, 468)\n",
      "('종로구', 1619, 464, 314, 211, 630)\n",
      "('중구', 1023, 413, 190, 72, 348)\n",
      "('중랑구', 916, 509, 121, 177, 109)\n"
     ]
    }
   ],
   "source": [
    "for i , row in df.iterrows(): #iterrows()는 DataFrame의 각 행을 (인덱스, 행 데이터)의 튜플로 반환\n",
    "    cursor.execute(sql, tuple(row)) # execute 메서드를 호출하여 SQL 쿼리를 실행하고, 튜플의 값이 쿼리에 매개변수로 전달되어 데이터베이스에 레코드를 추가\n",
    "    print(tuple(row))\n",
    "    remote.commit()"
   ]
  },
  {
   "cell_type": "code",
   "execution_count": 42,
   "metadata": {},
   "outputs": [
    {
     "name": "stdout",
     "output_type": "stream",
     "text": [
      "('강남구', 3238, 1292, 430, 584, 932)\n",
      "('강동구', 1010, 379, 99, 155, 377)\n",
      "('강북구', 831, 369, 120, 138, 204)\n",
      "('강서구', 911, 388, 258, 184, 81)\n",
      "('관악구', 2109, 846, 260, 390, 613)\n",
      "('광진구', 878, 573, 78, 53, 174)\n",
      "('구로구', 1884, 1142, 173, 246, 323)\n",
      "('금천구', 1348, 674, 51, 269, 354)\n",
      "('노원구', 1566, 542, 57, 451, 516)\n",
      "('도봉구', 825, 238, 159, 42, 386)\n",
      "('동대문구', 1870, 1070, 23, 198, 579)\n",
      "('동작구', 1302, 544, 341, 103, 314)\n",
      "('마포구', 980, 314, 118, 169, 379)\n",
      "('서대문구', 1254, 844, 50, 68, 292)\n",
      "('서초구', 2297, 1406, 157, 336, 398)\n",
      "('성동구', 1327, 730, 91, 241, 265)\n",
      "('성북구', 1651, 1009, 78, 360, 204)\n",
      "('송파구', 1081, 529, 21, 68, 463)\n",
      "('양천구', 2482, 1843, 142, 30, 467)\n",
      "('영등포구', 1277, 495, 214, 195, 373)\n",
      "('용산구', 2096, 1368, 218, 112, 398)\n",
      "('은평구', 2108, 1138, 224, 278, 468)\n",
      "('종로구', 1619, 464, 314, 211, 630)\n",
      "('중구', 1023, 413, 190, 72, 348)\n",
      "('중랑구', 916, 509, 121, 177, 109)\n"
     ]
    }
   ],
   "source": [
    "cursor.execute(\"select * from cctv\")\n",
    "\n",
    "result = cursor.fetchall()\n",
    "for row in result:\n",
    "    print(row)"
   ]
  },
  {
   "cell_type": "code",
   "execution_count": 43,
   "metadata": {},
   "outputs": [
    {
     "data": {
      "text/html": [
       "<div>\n",
       "<style scoped>\n",
       "    .dataframe tbody tr th:only-of-type {\n",
       "        vertical-align: middle;\n",
       "    }\n",
       "\n",
       "    .dataframe tbody tr th {\n",
       "        vertical-align: top;\n",
       "    }\n",
       "\n",
       "    .dataframe thead th {\n",
       "        text-align: right;\n",
       "    }\n",
       "</style>\n",
       "<table border=\"1\" class=\"dataframe\">\n",
       "  <thead>\n",
       "    <tr style=\"text-align: right;\">\n",
       "      <th></th>\n",
       "      <th>0</th>\n",
       "      <th>1</th>\n",
       "      <th>2</th>\n",
       "      <th>3</th>\n",
       "      <th>4</th>\n",
       "      <th>5</th>\n",
       "    </tr>\n",
       "  </thead>\n",
       "  <tbody>\n",
       "    <tr>\n",
       "      <th>0</th>\n",
       "      <td>강남구</td>\n",
       "      <td>3238</td>\n",
       "      <td>1292</td>\n",
       "      <td>430</td>\n",
       "      <td>584</td>\n",
       "      <td>932</td>\n",
       "    </tr>\n",
       "    <tr>\n",
       "      <th>1</th>\n",
       "      <td>강동구</td>\n",
       "      <td>1010</td>\n",
       "      <td>379</td>\n",
       "      <td>99</td>\n",
       "      <td>155</td>\n",
       "      <td>377</td>\n",
       "    </tr>\n",
       "    <tr>\n",
       "      <th>2</th>\n",
       "      <td>강북구</td>\n",
       "      <td>831</td>\n",
       "      <td>369</td>\n",
       "      <td>120</td>\n",
       "      <td>138</td>\n",
       "      <td>204</td>\n",
       "    </tr>\n",
       "    <tr>\n",
       "      <th>3</th>\n",
       "      <td>강서구</td>\n",
       "      <td>911</td>\n",
       "      <td>388</td>\n",
       "      <td>258</td>\n",
       "      <td>184</td>\n",
       "      <td>81</td>\n",
       "    </tr>\n",
       "    <tr>\n",
       "      <th>4</th>\n",
       "      <td>관악구</td>\n",
       "      <td>2109</td>\n",
       "      <td>846</td>\n",
       "      <td>260</td>\n",
       "      <td>390</td>\n",
       "      <td>613</td>\n",
       "    </tr>\n",
       "  </tbody>\n",
       "</table>\n",
       "</div>"
      ],
      "text/plain": [
       "     0     1     2    3    4    5\n",
       "0  강남구  3238  1292  430  584  932\n",
       "1  강동구  1010   379   99  155  377\n",
       "2  강북구   831   369  120  138  204\n",
       "3  강서구   911   388  258  184   81\n",
       "4  관악구  2109   846  260  390  613"
      ]
     },
     "execution_count": 43,
     "metadata": {},
     "output_type": "execute_result"
    }
   ],
   "source": [
    "df = pd.DataFrame(result)\n",
    "df.head()"
   ]
  },
  {
   "cell_type": "code",
   "execution_count": 47,
   "metadata": {},
   "outputs": [],
   "source": [
    "remote.close()"
   ]
  },
  {
   "cell_type": "code",
   "execution_count": null,
   "metadata": {},
   "outputs": [],
   "source": []
  }
 ],
 "metadata": {
  "kernelspec": {
   "display_name": "eda_venv",
   "language": "python",
   "name": "python3"
  },
  "language_info": {
   "codemirror_mode": {
    "name": "ipython",
    "version": 3
   },
   "file_extension": ".py",
   "mimetype": "text/x-python",
   "name": "python",
   "nbconvert_exporter": "python",
   "pygments_lexer": "ipython3",
   "version": "3.10.12"
  }
 },
 "nbformat": 4,
 "nbformat_minor": 2
}
